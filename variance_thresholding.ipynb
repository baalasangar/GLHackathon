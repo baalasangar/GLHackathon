{
  "nbformat": 4,
  "nbformat_minor": 0,
  "metadata": {
    "colab": {
      "name": "variance-thresholding.ipynb",
      "provenance": [],
      "authorship_tag": "ABX9TyO7GCFvclgbHhIDqrbIZ4S5",
      "include_colab_link": true
    },
    "kernelspec": {
      "name": "python3",
      "display_name": "Python 3"
    },
    "language_info": {
      "name": "python"
    }
  },
  "cells": [
    {
      "cell_type": "markdown",
      "metadata": {
        "id": "view-in-github",
        "colab_type": "text"
      },
      "source": [
        "<a href=\"https://colab.research.google.com/github/baalasangar/GLHackathon/blob/main/variance_thresholding.ipynb\" target=\"_parent\"><img src=\"https://colab.research.google.com/assets/colab-badge.svg\" alt=\"Open In Colab\"/></a>"
      ]
    },
    {
      "cell_type": "markdown",
      "metadata": {
        "id": "EkRyJ5USRSSC"
      },
      "source": [
        "The biggest challenge of Machine Learning is to create models that have robust predictive power by using as few features as possible. But given the massive sizes of today’s datasets, it is easy to lose the oversight of which features are important and which ones aren’t.\n",
        "\n",
        "That’s why there is an entire skill to be learned in the ML field — feature selection\n",
        "\n",
        "Variance Thresholding - variability in a distribution in a single metric\n",
        "\n",
        "![image.png](data:image/png;base64,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)\n",
        "\n",
        "Distributions that go around a single constant with a few exceptions are also useless. In other words, any feature or distribution with close to 0 variance should be dropped.\n",
        "\n",
        "Refer link - https://towardsdatascience.com/how-to-use-variance-thresholding-for-robust-feature-selection-a4503f2b5c3f\n",
        "\n",
        "\n"
      ]
    },
    {
      "cell_type": "code",
      "metadata": {
        "id": "3Q33Ji_QSGh4"
      },
      "source": [
        "from sklearn.datasets import load_iris\n",
        "from sklearn.feature_selection import VarianceThreshold\n",
        "import pandas as pd\n",
        "from sklearn.ensemble import RandomForestRegressor\n",
        "from sklearn.model_selection import train_test_split"
      ],
      "execution_count": 14,
      "outputs": []
    },
    {
      "cell_type": "code",
      "metadata": {
        "colab": {
          "base_uri": "https://localhost:8080/",
          "height": 204
        },
        "id": "JSSN43ZQVK_w",
        "outputId": "4768e55b-6e72-4fbf-d987-61d478ad2363"
      },
      "source": [
        "X, y = load_iris(return_X_y=True)\n",
        "df = pd.DataFrame(X, columns = ['Column_A','Column_B','Column_C','Column_D'])\n",
        "df.head()"
      ],
      "execution_count": 8,
      "outputs": [
        {
          "output_type": "execute_result",
          "data": {
            "text/html": [
              "<div>\n",
              "<style scoped>\n",
              "    .dataframe tbody tr th:only-of-type {\n",
              "        vertical-align: middle;\n",
              "    }\n",
              "\n",
              "    .dataframe tbody tr th {\n",
              "        vertical-align: top;\n",
              "    }\n",
              "\n",
              "    .dataframe thead th {\n",
              "        text-align: right;\n",
              "    }\n",
              "</style>\n",
              "<table border=\"1\" class=\"dataframe\">\n",
              "  <thead>\n",
              "    <tr style=\"text-align: right;\">\n",
              "      <th></th>\n",
              "      <th>Column_A</th>\n",
              "      <th>Column_B</th>\n",
              "      <th>Column_C</th>\n",
              "      <th>Column_D</th>\n",
              "    </tr>\n",
              "  </thead>\n",
              "  <tbody>\n",
              "    <tr>\n",
              "      <th>0</th>\n",
              "      <td>5.1</td>\n",
              "      <td>3.5</td>\n",
              "      <td>1.4</td>\n",
              "      <td>0.2</td>\n",
              "    </tr>\n",
              "    <tr>\n",
              "      <th>1</th>\n",
              "      <td>4.9</td>\n",
              "      <td>3.0</td>\n",
              "      <td>1.4</td>\n",
              "      <td>0.2</td>\n",
              "    </tr>\n",
              "    <tr>\n",
              "      <th>2</th>\n",
              "      <td>4.7</td>\n",
              "      <td>3.2</td>\n",
              "      <td>1.3</td>\n",
              "      <td>0.2</td>\n",
              "    </tr>\n",
              "    <tr>\n",
              "      <th>3</th>\n",
              "      <td>4.6</td>\n",
              "      <td>3.1</td>\n",
              "      <td>1.5</td>\n",
              "      <td>0.2</td>\n",
              "    </tr>\n",
              "    <tr>\n",
              "      <th>4</th>\n",
              "      <td>5.0</td>\n",
              "      <td>3.6</td>\n",
              "      <td>1.4</td>\n",
              "      <td>0.2</td>\n",
              "    </tr>\n",
              "  </tbody>\n",
              "</table>\n",
              "</div>"
            ],
            "text/plain": [
              "   Column_A  Column_B  Column_C  Column_D\n",
              "0       5.1       3.5       1.4       0.2\n",
              "1       4.9       3.0       1.4       0.2\n",
              "2       4.7       3.2       1.3       0.2\n",
              "3       4.6       3.1       1.5       0.2\n",
              "4       5.0       3.6       1.4       0.2"
            ]
          },
          "metadata": {
            "tags": []
          },
          "execution_count": 8
        }
      ]
    },
    {
      "cell_type": "markdown",
      "metadata": {
        "id": "yiwV6PpIV2jT"
      },
      "source": [
        "1. VarianceThreshold works only for numeric data\n",
        "2. Since each feature has different range of value, it's advised to normalise the data before VarianceThreshold"
      ]
    },
    {
      "cell_type": "code",
      "metadata": {
        "colab": {
          "base_uri": "https://localhost:8080/",
          "height": 204
        },
        "id": "aQbqH412VtoL",
        "outputId": "d544a756-af63-4988-f5db-51e8016d56b2"
      },
      "source": [
        "df = df.select_dtypes(include='number')\n",
        "normalized_df = df / df.mean()\n",
        "normalized_df.head()"
      ],
      "execution_count": 9,
      "outputs": [
        {
          "output_type": "execute_result",
          "data": {
            "text/html": [
              "<div>\n",
              "<style scoped>\n",
              "    .dataframe tbody tr th:only-of-type {\n",
              "        vertical-align: middle;\n",
              "    }\n",
              "\n",
              "    .dataframe tbody tr th {\n",
              "        vertical-align: top;\n",
              "    }\n",
              "\n",
              "    .dataframe thead th {\n",
              "        text-align: right;\n",
              "    }\n",
              "</style>\n",
              "<table border=\"1\" class=\"dataframe\">\n",
              "  <thead>\n",
              "    <tr style=\"text-align: right;\">\n",
              "      <th></th>\n",
              "      <th>Column_A</th>\n",
              "      <th>Column_B</th>\n",
              "      <th>Column_C</th>\n",
              "      <th>Column_D</th>\n",
              "    </tr>\n",
              "  </thead>\n",
              "  <tbody>\n",
              "    <tr>\n",
              "      <th>0</th>\n",
              "      <td>0.872790</td>\n",
              "      <td>1.144788</td>\n",
              "      <td>0.372539</td>\n",
              "      <td>0.166759</td>\n",
              "    </tr>\n",
              "    <tr>\n",
              "      <th>1</th>\n",
              "      <td>0.838562</td>\n",
              "      <td>0.981247</td>\n",
              "      <td>0.372539</td>\n",
              "      <td>0.166759</td>\n",
              "    </tr>\n",
              "    <tr>\n",
              "      <th>2</th>\n",
              "      <td>0.804335</td>\n",
              "      <td>1.046664</td>\n",
              "      <td>0.345929</td>\n",
              "      <td>0.166759</td>\n",
              "    </tr>\n",
              "    <tr>\n",
              "      <th>3</th>\n",
              "      <td>0.787222</td>\n",
              "      <td>1.013956</td>\n",
              "      <td>0.399148</td>\n",
              "      <td>0.166759</td>\n",
              "    </tr>\n",
              "    <tr>\n",
              "      <th>4</th>\n",
              "      <td>0.855676</td>\n",
              "      <td>1.177497</td>\n",
              "      <td>0.372539</td>\n",
              "      <td>0.166759</td>\n",
              "    </tr>\n",
              "  </tbody>\n",
              "</table>\n",
              "</div>"
            ],
            "text/plain": [
              "   Column_A  Column_B  Column_C  Column_D\n",
              "0  0.872790  1.144788  0.372539  0.166759\n",
              "1  0.838562  0.981247  0.372539  0.166759\n",
              "2  0.804335  1.046664  0.345929  0.166759\n",
              "3  0.787222  1.013956  0.399148  0.166759\n",
              "4  0.855676  1.177497  0.372539  0.166759"
            ]
          },
          "metadata": {
            "tags": []
          },
          "execution_count": 9
        }
      ]
    },
    {
      "cell_type": "code",
      "metadata": {
        "colab": {
          "base_uri": "https://localhost:8080/"
        },
        "id": "oKYlIjYHWdgD",
        "outputId": "9da057d8-d78d-49e8-b06a-dca58f8742a0"
      },
      "source": [
        "normalized_df.var() # Variance of the feature "
      ],
      "execution_count": 10,
      "outputs": [
        {
          "output_type": "execute_result",
          "data": {
            "text/plain": [
              "Column_A    0.020082\n",
              "Column_B    0.020325\n",
              "Column_C    0.220659\n",
              "Column_D    0.403925\n",
              "dtype: float64"
            ]
          },
          "metadata": {
            "tags": []
          },
          "execution_count": 10
        }
      ]
    },
    {
      "cell_type": "code",
      "metadata": {
        "colab": {
          "base_uri": "https://localhost:8080/"
        },
        "id": "r_BMKhYFWr-I",
        "outputId": "5296586a-0c2a-4690-b6ee-04fa479165f4"
      },
      "source": [
        "vt = VarianceThreshold(threshold=.03)\n",
        "# Fit\n",
        "_ = vt.fit(normalized_df)\n",
        "# Get the mask\n",
        "mask = vt.get_support()\n",
        "# Subset the DataFrame\n",
        "df_final = normalized_df.loc[:, mask]\n",
        "df_final.columns"
      ],
      "execution_count": 13,
      "outputs": [
        {
          "output_type": "execute_result",
          "data": {
            "text/plain": [
              "Index(['Column_C', 'Column_D'], dtype='object')"
            ]
          },
          "metadata": {
            "tags": []
          },
          "execution_count": 13
        }
      ]
    },
    {
      "cell_type": "markdown",
      "metadata": {
        "id": "4JxadKYkm_KX"
      },
      "source": [
        "Types of Feature Selection methods - https://scikit-learn.org/stable/modules/feature_selection.html#variance-threshold\n"
      ]
    }
  ]
}