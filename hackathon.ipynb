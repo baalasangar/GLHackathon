{
 "cells": [
  {
   "cell_type": "code",
   "execution_count": 62,
   "metadata": {},
   "outputs": [],
   "source": [
    "import sys\n",
    "import warnings                                 # `dnd` mode\n",
    "warnings.filterwarnings('ignore')"
   ]
  },
  {
   "cell_type": "code",
   "execution_count": 63,
   "metadata": {},
   "outputs": [],
   "source": [
    "# Import necessary libraries\n",
    "\n",
    "from simple_colors import *                     # print text formatting \n",
    "from pprint import pprint                       # import petty print\n",
    "import numpy as np                              # Import Numpy library for vectors, matrix, algebra\n",
    "import pandas as pd                             # Import Pandas library for dataframe preparation and manipulation\n",
    "import statistics                               # Import Statistics library for basic statistics, if required\n",
    "import statsmodels.api as sm                    # Statsmodel is an essential module to conduct statistical tests\n",
    "from scipy import stats                         # Scipy builds on Numpy for mathematical computation\n",
    "from scipy.stats import zscore                  # Import Zscore function from Scipy Stats module\n",
    "from scipy.stats import variation               # Compute coefficient of variation\n",
    "\n",
    "import matplotlib.pyplot as plt                 # Import Pyplot from matplotlib\n",
    "import seaborn as sns                           # Import Seaborn library for data visualization\n",
    "sns.set(color_codes = True)                     # data visualization\n",
    "\n",
    "from sklearn.preprocessing import LabelEncoder   # Import library to encode categorical data\n",
    "from sklearn.preprocessing import StandardScaler # Standard Scaler will be used for scaling the data\n",
    "from sklearn.neighbors import LocalOutlierFactor # To detect outliers using Local Outlier Factor\n",
    "from sklearn import model_selection          \n",
    "from sklearn.model_selection import train_test_split # Importing train test split for splitting data from Scikit Learn\n",
    "from sklearn.model_selection import GridSearchCV     # Hyperparameter tuning through looping\n",
    "from sklearn.pipeline import Pipeline                # Assemble multiple steps for crossvalidation\n",
    "from sklearn import metrics                          # Importing Metrics for Accuracy Testing from Scikit Learn\n",
    "from sklearn.metrics import precision_score, recall_score, f1_score, roc_auc_score, confusion_matrix #import the accuracy classes from the library. \n",
    "\n",
    "from sklearn.preprocessing import StandardScaler\n",
    "from sklearn.decomposition import PCA\n",
    "from keras.models import Sequential\n",
    "from keras.layers import Dense, Dropout, GaussianNoise, Conv1D\n",
    "from keras.utils import np_utils\n",
    "from keras.wrappers.scikit_learn import KerasRegressor\n",
    "from sklearn.model_selection import cross_val_score\n",
    "from sklearn.model_selection import KFold"
   ]
  },
  {
   "cell_type": "code",
   "execution_count": 64,
   "metadata": {},
   "outputs": [],
   "source": [
    "# Set display of tables\n",
    "\n",
    "pd.set_option(\"display.max_column\", None) # set display of all columns\n",
    "pd.options.display.max_colwidth = 150     # increase column width to display large text\n",
    "pd.set_option(\"display.max_rows\", None) # set display of all rows"
   ]
  },
  {
   "cell_type": "code",
   "execution_count": 65,
   "metadata": {},
   "outputs": [],
   "source": [
    "%matplotlib inline"
   ]
  },
  {
   "cell_type": "code",
   "execution_count": 66,
   "metadata": {},
   "outputs": [],
   "source": [
    "df1 = pd.read_csv(\"/Users/kaushik/Desktop/GL_projects/hackathon/Train/frequency_domain_features_train.csv\")\n",
    "df2 = pd.read_csv(\"/Users/kaushik/Desktop/GL_projects/hackathon/Train/heart_rate_non_linear_features_train.csv\")\n",
    "df3 = pd.read_csv(\"/Users/kaushik/Desktop/GL_projects/hackathon/Train/time_domain_features_train.csv\")"
   ]
  },
  {
   "cell_type": "code",
   "execution_count": 67,
   "metadata": {},
   "outputs": [],
   "source": [
    "df_test1 = pd.read_csv(\"/Users/kaushik/OneDrive/GL/Hackathon/Test Zip/frequency_domain_features_test.csv\")\n",
    "df_test2 = pd.read_csv(\"/Users/kaushik/OneDrive/GL/Hackathon/Test Zip/heart_rate_non_linear_features_test.csv\")\n",
    "df_test3 = pd.read_csv(\"/Users/kaushik/OneDrive/GL/Hackathon/Test Zip/time_domain_features_test.csv\")"
   ]
  },
  {
   "cell_type": "code",
   "execution_count": 68,
   "metadata": {},
   "outputs": [],
   "source": [
    "df = pd.merge(df1, df2, on='uuid')"
   ]
  },
  {
   "cell_type": "code",
   "execution_count": 69,
   "metadata": {},
   "outputs": [],
   "source": [
    "df = pd.merge(df, df3, on='uuid')"
   ]
  },
  {
   "cell_type": "code",
   "execution_count": 70,
   "metadata": {},
   "outputs": [
    {
     "data": {
      "text/plain": [
       "(369289, 37)"
      ]
     },
     "execution_count": 70,
     "metadata": {},
     "output_type": "execute_result"
    }
   ],
   "source": [
    "df.shape"
   ]
  },
  {
   "cell_type": "code",
   "execution_count": 71,
   "metadata": {},
   "outputs": [
    {
     "name": "stdout",
     "output_type": "stream",
     "text": [
      "<class 'pandas.core.frame.DataFrame'>\n",
      "Int64Index: 369289 entries, 0 to 369288\n",
      "Data columns (total 37 columns):\n",
      " #   Column             Non-Null Count   Dtype  \n",
      "---  ------             --------------   -----  \n",
      " 0   uuid               369289 non-null  object \n",
      " 1   VLF                369289 non-null  float64\n",
      " 2   VLF_PCT            369289 non-null  float64\n",
      " 3   LF                 369289 non-null  float64\n",
      " 4   LF_PCT             369289 non-null  float64\n",
      " 5   LF_NU              369289 non-null  float64\n",
      " 6   HF                 369289 non-null  float64\n",
      " 7   HF_PCT             369289 non-null  float64\n",
      " 8   HF_NU              369289 non-null  float64\n",
      " 9   TP                 369289 non-null  float64\n",
      " 10  LF_HF              369289 non-null  float64\n",
      " 11  HF_LF              369289 non-null  float64\n",
      " 12  SD1                369289 non-null  float64\n",
      " 13  SD2                369289 non-null  float64\n",
      " 14  sampen             369289 non-null  float64\n",
      " 15  higuci             369289 non-null  float64\n",
      " 16  datasetId          369289 non-null  int64  \n",
      " 17  condition          369289 non-null  object \n",
      " 18  MEAN_RR            369289 non-null  float64\n",
      " 19  MEDIAN_RR          369289 non-null  float64\n",
      " 20  SDRR               369289 non-null  float64\n",
      " 21  RMSSD              369289 non-null  float64\n",
      " 22  SDSD               369289 non-null  float64\n",
      " 23  SDRR_RMSSD         369289 non-null  float64\n",
      " 24  HR                 369289 non-null  float64\n",
      " 25  pNN25              369289 non-null  float64\n",
      " 26  pNN50              369289 non-null  float64\n",
      " 27  KURT               369289 non-null  float64\n",
      " 28  SKEW               369289 non-null  float64\n",
      " 29  MEAN_REL_RR        369289 non-null  float64\n",
      " 30  MEDIAN_REL_RR      369289 non-null  float64\n",
      " 31  SDRR_REL_RR        369289 non-null  float64\n",
      " 32  RMSSD_REL_RR       369289 non-null  float64\n",
      " 33  SDSD_REL_RR        369289 non-null  float64\n",
      " 34  SDRR_RMSSD_REL_RR  369289 non-null  float64\n",
      " 35  KURT_REL_RR        369289 non-null  float64\n",
      " 36  SKEW_REL_RR        369289 non-null  float64\n",
      "dtypes: float64(34), int64(1), object(2)\n",
      "memory usage: 107.1+ MB\n"
     ]
    }
   ],
   "source": [
    "df.info()"
   ]
  },
  {
   "cell_type": "code",
   "execution_count": 72,
   "metadata": {},
   "outputs": [],
   "source": [
    "df = df.drop([\"uuid\", \"datasetId\"], axis =1)"
   ]
  },
  {
   "cell_type": "code",
   "execution_count": 73,
   "metadata": {},
   "outputs": [],
   "source": [
    "df = pd.get_dummies(df, prefix=['condition'], prefix_sep='_', dummy_na=False, columns=['condition'])"
   ]
  },
  {
   "cell_type": "code",
   "execution_count": 74,
   "metadata": {},
   "outputs": [],
   "source": [
    "indep_var = df.drop(['HR'], axis = 1)"
   ]
  },
  {
   "cell_type": "code",
   "execution_count": 75,
   "metadata": {},
   "outputs": [],
   "source": [
    "col = indep_var.columns.to_list()"
   ]
  },
  {
   "cell_type": "code",
   "execution_count": 76,
   "metadata": {},
   "outputs": [],
   "source": [
    "# Setting up the data. \n",
    "# K is fixed by passing the n_neighbors parameter with integer. \n",
    "# I have used the default Euclidean distance.\n",
    "lof = LocalOutlierFactor(n_neighbors = 15)\n",
    "#Training the model taking only independent variables\n",
    "df['lof'] = lof.fit_predict(df[col])\n",
    "#Getting the negative LOF score\n",
    "df['negative_outlier_factor'] = lof.negative_outlier_factor_"
   ]
  },
  {
   "cell_type": "code",
   "execution_count": 77,
   "metadata": {},
   "outputs": [
    {
     "name": "stdout",
     "output_type": "stream",
     "text": [
      "\u001b[1;34mThere are\u001b[0m 1.59 \u001b[1;34mpercent outlier records in the data.\u001b[0m\n"
     ]
    }
   ],
   "source": [
    "# Detecting the outliers\n",
    "outliers = df[df['lof'] == -1]\n",
    "# Finding the number of outlier records\n",
    "n_outliers = outliers.shape[0]\n",
    "n_records = df.shape[0]\n",
    "percent_outliers = n_outliers/n_records*100\n",
    "print(blue(\"There are\", [\"bold\"]), round(percent_outliers, 2), \n",
    "      blue(\"percent outlier records in the data.\", [\"bold\"]))"
   ]
  },
  {
   "cell_type": "code",
   "execution_count": 78,
   "metadata": {},
   "outputs": [],
   "source": [
    "# Droping the outlier records to create a new dataframe df1\n",
    "df = df.loc[df['lof'] >= 0]"
   ]
  },
  {
   "cell_type": "code",
   "execution_count": 79,
   "metadata": {},
   "outputs": [
    {
     "name": "stdout",
     "output_type": "stream",
     "text": [
      "<class 'pandas.core.frame.DataFrame'>\n",
      "Int64Index: 363434 entries, 0 to 369288\n",
      "Data columns (total 39 columns):\n",
      " #   Column                   Non-Null Count   Dtype  \n",
      "---  ------                   --------------   -----  \n",
      " 0   VLF                      363434 non-null  float64\n",
      " 1   VLF_PCT                  363434 non-null  float64\n",
      " 2   LF                       363434 non-null  float64\n",
      " 3   LF_PCT                   363434 non-null  float64\n",
      " 4   LF_NU                    363434 non-null  float64\n",
      " 5   HF                       363434 non-null  float64\n",
      " 6   HF_PCT                   363434 non-null  float64\n",
      " 7   HF_NU                    363434 non-null  float64\n",
      " 8   TP                       363434 non-null  float64\n",
      " 9   LF_HF                    363434 non-null  float64\n",
      " 10  HF_LF                    363434 non-null  float64\n",
      " 11  SD1                      363434 non-null  float64\n",
      " 12  SD2                      363434 non-null  float64\n",
      " 13  sampen                   363434 non-null  float64\n",
      " 14  higuci                   363434 non-null  float64\n",
      " 15  MEAN_RR                  363434 non-null  float64\n",
      " 16  MEDIAN_RR                363434 non-null  float64\n",
      " 17  SDRR                     363434 non-null  float64\n",
      " 18  RMSSD                    363434 non-null  float64\n",
      " 19  SDSD                     363434 non-null  float64\n",
      " 20  SDRR_RMSSD               363434 non-null  float64\n",
      " 21  HR                       363434 non-null  float64\n",
      " 22  pNN25                    363434 non-null  float64\n",
      " 23  pNN50                    363434 non-null  float64\n",
      " 24  KURT                     363434 non-null  float64\n",
      " 25  SKEW                     363434 non-null  float64\n",
      " 26  MEAN_REL_RR              363434 non-null  float64\n",
      " 27  MEDIAN_REL_RR            363434 non-null  float64\n",
      " 28  SDRR_REL_RR              363434 non-null  float64\n",
      " 29  RMSSD_REL_RR             363434 non-null  float64\n",
      " 30  SDSD_REL_RR              363434 non-null  float64\n",
      " 31  SDRR_RMSSD_REL_RR        363434 non-null  float64\n",
      " 32  KURT_REL_RR              363434 non-null  float64\n",
      " 33  SKEW_REL_RR              363434 non-null  float64\n",
      " 34  condition_interruption   363434 non-null  uint8  \n",
      " 35  condition_no stress      363434 non-null  uint8  \n",
      " 36  condition_time pressure  363434 non-null  uint8  \n",
      " 37  lof                      363434 non-null  int64  \n",
      " 38  negative_outlier_factor  363434 non-null  float64\n",
      "dtypes: float64(35), int64(1), uint8(3)\n",
      "memory usage: 103.6 MB\n"
     ]
    }
   ],
   "source": [
    "df.info()"
   ]
  },
  {
   "cell_type": "code",
   "execution_count": 80,
   "metadata": {},
   "outputs": [],
   "source": [
    "df = df.drop([\"lof\", \"negative_outlier_factor\"], axis = 1)"
   ]
  },
  {
   "cell_type": "code",
   "execution_count": 81,
   "metadata": {},
   "outputs": [
    {
     "name": "stdout",
     "output_type": "stream",
     "text": [
      "<class 'pandas.core.frame.DataFrame'>\n",
      "Int64Index: 363434 entries, 0 to 369288\n",
      "Data columns (total 37 columns):\n",
      " #   Column                   Non-Null Count   Dtype  \n",
      "---  ------                   --------------   -----  \n",
      " 0   VLF                      363434 non-null  float64\n",
      " 1   VLF_PCT                  363434 non-null  float64\n",
      " 2   LF                       363434 non-null  float64\n",
      " 3   LF_PCT                   363434 non-null  float64\n",
      " 4   LF_NU                    363434 non-null  float64\n",
      " 5   HF                       363434 non-null  float64\n",
      " 6   HF_PCT                   363434 non-null  float64\n",
      " 7   HF_NU                    363434 non-null  float64\n",
      " 8   TP                       363434 non-null  float64\n",
      " 9   LF_HF                    363434 non-null  float64\n",
      " 10  HF_LF                    363434 non-null  float64\n",
      " 11  SD1                      363434 non-null  float64\n",
      " 12  SD2                      363434 non-null  float64\n",
      " 13  sampen                   363434 non-null  float64\n",
      " 14  higuci                   363434 non-null  float64\n",
      " 15  MEAN_RR                  363434 non-null  float64\n",
      " 16  MEDIAN_RR                363434 non-null  float64\n",
      " 17  SDRR                     363434 non-null  float64\n",
      " 18  RMSSD                    363434 non-null  float64\n",
      " 19  SDSD                     363434 non-null  float64\n",
      " 20  SDRR_RMSSD               363434 non-null  float64\n",
      " 21  HR                       363434 non-null  float64\n",
      " 22  pNN25                    363434 non-null  float64\n",
      " 23  pNN50                    363434 non-null  float64\n",
      " 24  KURT                     363434 non-null  float64\n",
      " 25  SKEW                     363434 non-null  float64\n",
      " 26  MEAN_REL_RR              363434 non-null  float64\n",
      " 27  MEDIAN_REL_RR            363434 non-null  float64\n",
      " 28  SDRR_REL_RR              363434 non-null  float64\n",
      " 29  RMSSD_REL_RR             363434 non-null  float64\n",
      " 30  SDSD_REL_RR              363434 non-null  float64\n",
      " 31  SDRR_RMSSD_REL_RR        363434 non-null  float64\n",
      " 32  KURT_REL_RR              363434 non-null  float64\n",
      " 33  SKEW_REL_RR              363434 non-null  float64\n",
      " 34  condition_interruption   363434 non-null  uint8  \n",
      " 35  condition_no stress      363434 non-null  uint8  \n",
      " 36  condition_time pressure  363434 non-null  uint8  \n",
      "dtypes: float64(34), uint8(3)\n",
      "memory usage: 98.1 MB\n"
     ]
    }
   ],
   "source": [
    "df.info()"
   ]
  },
  {
   "cell_type": "code",
   "execution_count": 82,
   "metadata": {},
   "outputs": [],
   "source": [
    "# Target and feature separation in original dataframe\n",
    "X = df.drop(labels= \"HR\" , axis = 1) \n",
    "y = df[\"HR\"]"
   ]
  },
  {
   "cell_type": "code",
   "execution_count": 83,
   "metadata": {},
   "outputs": [],
   "source": [
    "scaler = StandardScaler()                 # defining scaler\n",
    "X = scaler.fit_transform(X)   # scale the training data"
   ]
  },
  {
   "cell_type": "code",
   "execution_count": 84,
   "metadata": {},
   "outputs": [
    {
     "data": {
      "text/plain": [
       "PCA(n_components=35)"
      ]
     },
     "execution_count": 84,
     "metadata": {},
     "output_type": "execute_result"
    }
   ],
   "source": [
    "pca = PCA(n_components=35)\n",
    "pca.fit(X)"
   ]
  },
  {
   "cell_type": "code",
   "execution_count": 85,
   "metadata": {},
   "outputs": [
    {
     "data": {
      "text/plain": [
       "Text(0, 0.5, 'Cumulative explained variance')"
      ]
     },
     "execution_count": 85,
     "metadata": {},
     "output_type": "execute_result"
    },
    {
     "data": {
      "image/png": "[encoded data removed]",
      "text/plain": [
       "<Figure size 432x288 with 1 Axes>"
      ]
     },
     "metadata": {
      "needs_background": "light"
     },
     "output_type": "display_data"
    }
   ],
   "source": [
    "plt.plot(np.cumsum(pca.explained_variance_ratio_))\n",
    "plt.xlabel('Number of components')\n",
    "plt.ylabel('Cumulative explained variance')"
   ]
  },
  {
   "cell_type": "code",
   "execution_count": 86,
   "metadata": {},
   "outputs": [],
   "source": [
    "NCOMPONENTS = 16\n",
    "pca = PCA(n_components=NCOMPONENTS)\n",
    "X_pca_train = pca.fit_transform(X)"
   ]
  },
  {
   "cell_type": "code",
   "execution_count": 87,
   "metadata": {},
   "outputs": [],
   "source": [
    "pca_std = np.std(X_pca_train)"
   ]
  },
  {
   "cell_type": "code",
   "execution_count": 111,
   "metadata": {},
   "outputs": [],
   "source": [
    "def mlp_model():\n",
    "    model = Sequential()\n",
    "    model.add(Dense(36, input_dim = NCOMPONENTS, activation = \"relu\"))\n",
    "    model.add(Dense(16, activation = \"relu\"))\n",
    "    model.add(Dense(4, activation = \"relu\"))\n",
    "    model.add(Dense(1, kernel_initializer='normal'))\n",
    "    model.add(GaussianNoise(pca_std))\n",
    "    model.compile(loss=\"mean_squared_error\", optimizer='adam')\n",
    "    return model"
   ]
  },
  {
   "cell_type": "code",
   "execution_count": 114,
   "metadata": {},
   "outputs": [],
   "source": [
    "estimator = KerasRegressor(build_fn=mlp_model, epochs=30, batch_size=256, verbose=True)"
   ]
  },
  {
   "cell_type": "code",
   "execution_count": 115,
   "metadata": {},
   "outputs": [
    {
     "name": "stdout",
     "output_type": "stream",
     "text": [
      "Epoch 1/30\n",
      "1136/1136 [==============================] - 1s 517us/step - loss: 759.6949\n",
      "Epoch 2/30\n",
      "1136/1136 [==============================] - 1s 513us/step - loss: 8.6203\n",
      "Epoch 3/30\n",
      "1136/1136 [==============================] - 1s 511us/step - loss: 3.7963\n",
      "Epoch 4/30\n",
      "1136/1136 [==============================] - 1s 518us/step - loss: 3.1304\n",
      "Epoch 5/30\n",
      "1136/1136 [==============================] - 1s 517us/step - loss: 2.8708\n",
      "Epoch 6/30\n",
      "1136/1136 [==============================] - 1s 522us/step - loss: 2.7407\n",
      "Epoch 7/30\n",
      "1136/1136 [==============================] - 1s 524us/step - loss: 2.6571\n",
      "Epoch 8/30\n",
      "1136/1136 [==============================] - 1s 519us/step - loss: 2.6211\n",
      "Epoch 9/30\n",
      "1136/1136 [==============================] - 1s 527us/step - loss: 2.5852\n",
      "Epoch 10/30\n",
      "1136/1136 [==============================] - 1s 526us/step - loss: 2.5717\n",
      "Epoch 11/30\n",
      "1136/1136 [==============================] - 1s 527us/step - loss: 2.5648\n",
      "Epoch 12/30\n",
      "1136/1136 [==============================] - 1s 551us/step - loss: 2.5401\n",
      "Epoch 13/30\n",
      "1136/1136 [==============================] - 1s 572us/step - loss: 2.5285\n",
      "Epoch 14/30\n",
      "1136/1136 [==============================] - 1s 549us/step - loss: 2.5265\n",
      "Epoch 15/30\n",
      "1136/1136 [==============================] - 1s 593us/step - loss: 2.5141\n",
      "Epoch 16/30\n",
      "1136/1136 [==============================] - 1s 555us/step - loss: 2.5102\n",
      "Epoch 17/30\n",
      "1136/1136 [==============================] - 1s 567us/step - loss: 2.4996\n",
      "Epoch 18/30\n",
      "1136/1136 [==============================] - 1s 569us/step - loss: 2.4998\n",
      "Epoch 19/30\n",
      "1136/1136 [==============================] - 1s 563us/step - loss: 2.4912\n",
      "Epoch 20/30\n",
      "1136/1136 [==============================] - 1s 578us/step - loss: 2.4739\n",
      "Epoch 21/30\n",
      "1136/1136 [==============================] - 1s 588us/step - loss: 2.4753\n",
      "Epoch 22/30\n",
      "1136/1136 [==============================] - 1s 697us/step - loss: 2.4744\n",
      "Epoch 23/30\n",
      "1136/1136 [==============================] - 1s 622us/step - loss: 2.4713\n",
      "Epoch 24/30\n",
      "1136/1136 [==============================] - 1s 562us/step - loss: 2.4592\n",
      "Epoch 25/30\n",
      "1136/1136 [==============================] - 1s 586us/step - loss: 2.4562\n",
      "Epoch 26/30\n",
      "1136/1136 [==============================] - 1s 591us/step - loss: 2.4480\n",
      "Epoch 27/30\n",
      "1136/1136 [==============================] - 1s 602us/step - loss: 2.4681\n",
      "Epoch 28/30\n",
      "1136/1136 [==============================] - 1s 609us/step - loss: 2.4499\n",
      "Epoch 29/30\n",
      "1136/1136 [==============================] - 1s 595us/step - loss: 2.4534\n",
      "Epoch 30/30\n",
      "1136/1136 [==============================] - 1s 615us/step - loss: 2.4466\n",
      "284/284 [==============================] - 0s 338us/step - loss: 0.1778\n",
      "Epoch 1/30\n",
      "1136/1136 [==============================] - 1s 631us/step - loss: 849.9236\n",
      "Epoch 2/30\n",
      "1136/1136 [==============================] - 1s 613us/step - loss: 15.6064\n",
      "Epoch 3/30\n",
      "1136/1136 [==============================] - 1s 608us/step - loss: 6.4190\n",
      "Epoch 4/30\n",
      "1136/1136 [==============================] - 1s 639us/step - loss: 4.0146\n",
      "Epoch 5/30\n",
      "1136/1136 [==============================] - 1s 687us/step - loss: 3.2434\n",
      "Epoch 6/30\n",
      "1136/1136 [==============================] - 1s 851us/step - loss: 2.9288\n",
      "Epoch 7/30\n",
      "1136/1136 [==============================] - 1s 584us/step - loss: 2.7860\n",
      "Epoch 8/30\n",
      "1136/1136 [==============================] - 1s 571us/step - loss: 2.6947\n",
      "Epoch 9/30\n",
      "1136/1136 [==============================] - 1s 570us/step - loss: 2.6488\n",
      "Epoch 10/30\n",
      "1136/1136 [==============================] - 1s 572us/step - loss: 2.6071\n",
      "Epoch 11/30\n",
      "1136/1136 [==============================] - 1s 565us/step - loss: 2.5810\n",
      "Epoch 12/30\n",
      "1136/1136 [==============================] - 1s 572us/step - loss: 2.5617\n",
      "Epoch 13/30\n",
      "1136/1136 [==============================] - 1s 562us/step - loss: 2.5511\n",
      "Epoch 14/30\n",
      "1136/1136 [==============================] - 1s 562us/step - loss: 2.5396\n",
      "Epoch 15/30\n",
      "1136/1136 [==============================] - 1s 566us/step - loss: 2.5130\n",
      "Epoch 16/30\n",
      "1136/1136 [==============================] - 1s 564us/step - loss: 2.5222\n",
      "Epoch 17/30\n",
      "1136/1136 [==============================] - 1s 564us/step - loss: 2.5180\n",
      "Epoch 18/30\n",
      "1136/1136 [==============================] - 1s 568us/step - loss: 2.5029\n",
      "Epoch 19/30\n",
      "1136/1136 [==============================] - 1s 583us/step - loss: 2.5144\n",
      "Epoch 20/30\n",
      "1136/1136 [==============================] - 1s 572us/step - loss: 2.4947\n",
      "Epoch 21/30\n",
      "1136/1136 [==============================] - 1s 560us/step - loss: 2.4857\n",
      "Epoch 22/30\n",
      "1136/1136 [==============================] - 1s 573us/step - loss: 2.4768\n",
      "Epoch 23/30\n",
      "1136/1136 [==============================] - 1s 790us/step - loss: 2.4839\n",
      "Epoch 24/30\n",
      "1136/1136 [==============================] - 1s 657us/step - loss: 2.4813\n",
      "Epoch 25/30\n",
      "1136/1136 [==============================] - 1s 932us/step - loss: 2.4631\n",
      "Epoch 26/30\n",
      "1136/1136 [==============================] - 1s 571us/step - loss: 2.4736\n",
      "Epoch 27/30\n",
      "1136/1136 [==============================] - 1s 583us/step - loss: 2.4833\n",
      "Epoch 28/30\n",
      "1136/1136 [==============================] - 1s 544us/step - loss: 2.4747\n",
      "Epoch 29/30\n",
      "1136/1136 [==============================] - 1s 532us/step - loss: 2.4668\n",
      "Epoch 30/30\n",
      "1136/1136 [==============================] - 1s 550us/step - loss: 2.4709\n",
      "284/284 [==============================] - 0s 388us/step - loss: 0.2109\n",
      "Epoch 1/30\n",
      "1136/1136 [==============================] - 1s 603us/step - loss: 719.7473\n",
      "Epoch 2/30\n",
      "1136/1136 [==============================] - 1s 588us/step - loss: 11.9286\n",
      "Epoch 3/30\n",
      "1136/1136 [==============================] - 1s 596us/step - loss: 5.1026\n",
      "Epoch 4/30\n",
      "1136/1136 [==============================] - 1s 602us/step - loss: 3.6248\n",
      "Epoch 5/30\n",
      "1136/1136 [==============================] - 1s 604us/step - loss: 3.1297\n",
      "Epoch 6/30\n",
      "1136/1136 [==============================] - 1s 609us/step - loss: 2.8691\n",
      "Epoch 7/30\n",
      "1136/1136 [==============================] - 1s 613us/step - loss: 2.7562\n",
      "Epoch 8/30\n",
      "1136/1136 [==============================] - 1s 598us/step - loss: 2.6673\n",
      "Epoch 9/30\n",
      "1136/1136 [==============================] - 1s 870us/step - loss: 2.6117\n",
      "Epoch 10/30\n",
      "1136/1136 [==============================] - 1s 603us/step - loss: 2.5971\n",
      "Epoch 11/30\n",
      "1136/1136 [==============================] - 1s 573us/step - loss: 2.5653\n",
      "Epoch 12/30\n",
      "1136/1136 [==============================] - 1s 573us/step - loss: 2.5651\n",
      "Epoch 13/30\n",
      "1136/1136 [==============================] - 1s 580us/step - loss: 2.5560\n",
      "Epoch 14/30\n",
      "1136/1136 [==============================] - 1s 660us/step - loss: 2.5335\n",
      "Epoch 15/30\n",
      "1136/1136 [==============================] - 1s 564us/step - loss: 2.5157\n",
      "Epoch 16/30\n",
      "1136/1136 [==============================] - 1s 563us/step - loss: 2.5081\n",
      "Epoch 17/30\n",
      "1136/1136 [==============================] - 1s 559us/step - loss: 2.5058\n",
      "Epoch 18/30\n",
      "1136/1136 [==============================] - 1s 562us/step - loss: 2.5101\n",
      "Epoch 19/30\n",
      "1136/1136 [==============================] - 1s 565us/step - loss: 2.5128\n",
      "Epoch 20/30\n",
      "1136/1136 [==============================] - 1s 565us/step - loss: 2.4909\n",
      "Epoch 21/30\n",
      "1136/1136 [==============================] - 1s 564us/step - loss: 2.5043\n",
      "Epoch 22/30\n",
      "1136/1136 [==============================] - 1s 576us/step - loss: 2.4970\n",
      "Epoch 23/30\n",
      "1136/1136 [==============================] - 1s 562us/step - loss: 2.4872\n",
      "Epoch 24/30\n",
      "1136/1136 [==============================] - 1s 560us/step - loss: 2.4869\n",
      "Epoch 25/30\n",
      "1136/1136 [==============================] - 1s 560us/step - loss: 2.4777\n",
      "Epoch 26/30\n",
      "1136/1136 [==============================] - 1s 683us/step - loss: 2.4818\n",
      "Epoch 27/30\n",
      "1136/1136 [==============================] - 1s 716us/step - loss: 2.4911\n",
      "Epoch 28/30\n",
      "1136/1136 [==============================] - 1s 589us/step - loss: 2.4870\n",
      "Epoch 29/30\n",
      "1136/1136 [==============================] - 1s 582us/step - loss: 2.4724\n",
      "Epoch 30/30\n",
      "1136/1136 [==============================] - 1s 594us/step - loss: 2.4677\n",
      "284/284 [==============================] - 0s 424us/step - loss: 0.2220\n",
      "Epoch 1/30\n",
      "1136/1136 [==============================] - 1s 581us/step - loss: 759.1047\n",
      "Epoch 2/30\n",
      "1136/1136 [==============================] - 1s 585us/step - loss: 9.8997\n",
      "Epoch 3/30\n",
      "1136/1136 [==============================] - 1s 608us/step - loss: 4.7823\n",
      "Epoch 4/30\n",
      "1136/1136 [==============================] - 1s 608us/step - loss: 3.6053\n",
      "Epoch 5/30\n",
      "1136/1136 [==============================] - 1s 650us/step - loss: 3.1543\n",
      "Epoch 6/30\n",
      "1136/1136 [==============================] - 1s 660us/step - loss: 2.9610\n",
      "Epoch 7/30\n",
      "1136/1136 [==============================] - 1s 664us/step - loss: 2.8321\n",
      "Epoch 8/30\n",
      "1136/1136 [==============================] - 1s 626us/step - loss: 2.7444\n",
      "Epoch 9/30\n",
      "1136/1136 [==============================] - 1s 710us/step - loss: 2.6781\n",
      "Epoch 10/30\n",
      "1136/1136 [==============================] - 1s 660us/step - loss: 2.6393\n",
      "Epoch 11/30\n",
      "1136/1136 [==============================] - 1s 639us/step - loss: 2.6035\n",
      "Epoch 12/30\n",
      "1136/1136 [==============================] - 1s 607us/step - loss: 2.5850\n",
      "Epoch 13/30\n",
      "1136/1136 [==============================] - 1s 605us/step - loss: 2.5675\n",
      "Epoch 14/30\n",
      "1136/1136 [==============================] - 1s 597us/step - loss: 2.5560\n",
      "Epoch 15/30\n",
      "1136/1136 [==============================] - 1s 622us/step - loss: 2.5421\n",
      "Epoch 16/30\n",
      "1136/1136 [==============================] - 1s 597us/step - loss: 2.5437\n",
      "Epoch 17/30\n",
      "1136/1136 [==============================] - 1s 626us/step - loss: 2.5377\n",
      "Epoch 18/30\n",
      "1136/1136 [==============================] - 1s 595us/step - loss: 2.5343\n",
      "Epoch 19/30\n",
      "1136/1136 [==============================] - 1s 614us/step - loss: 2.5292\n",
      "Epoch 20/30\n",
      "1136/1136 [==============================] - 1s 607us/step - loss: 2.5315\n",
      "Epoch 21/30\n",
      "1136/1136 [==============================] - 1s 667us/step - loss: 2.5206\n",
      "Epoch 22/30\n",
      "1136/1136 [==============================] - 1s 695us/step - loss: 2.5013\n",
      "Epoch 23/30\n",
      "1136/1136 [==============================] - 1s 837us/step - loss: 2.5082\n",
      "Epoch 24/30\n",
      "1136/1136 [==============================] - 1s 742us/step - loss: 2.5149\n",
      "Epoch 25/30\n",
      "1136/1136 [==============================] - 1s 593us/step - loss: 2.5270\n",
      "Epoch 26/30\n",
      "1136/1136 [==============================] - 1s 563us/step - loss: 2.5209\n",
      "Epoch 27/30\n",
      "1136/1136 [==============================] - 1s 556us/step - loss: 2.4961\n",
      "Epoch 28/30\n",
      "1136/1136 [==============================] - 1s 555us/step - loss: 2.4964\n",
      "Epoch 29/30\n",
      "1136/1136 [==============================] - 1s 564us/step - loss: 2.5003\n",
      "Epoch 30/30\n",
      "1136/1136 [==============================] - 1s 556us/step - loss: 2.4836\n",
      "284/284 [==============================] - 0s 338us/step - loss: 0.2425\n",
      "Epoch 1/30\n",
      "1136/1136 [==============================] - 1s 571us/step - loss: 701.2832\n",
      "Epoch 2/30\n",
      "1136/1136 [==============================] - 1s 566us/step - loss: 13.6131\n",
      "Epoch 3/30\n",
      "1136/1136 [==============================] - 1s 572us/step - loss: 5.7488\n",
      "Epoch 4/30\n",
      "1136/1136 [==============================] - 1s 560us/step - loss: 3.7036\n",
      "Epoch 5/30\n",
      "1136/1136 [==============================] - 1s 586us/step - loss: 3.1162\n",
      "Epoch 6/30\n",
      "1136/1136 [==============================] - 1s 568us/step - loss: 2.8837\n",
      "Epoch 7/30\n",
      "1136/1136 [==============================] - 1s 624us/step - loss: 2.7813\n",
      "Epoch 8/30\n",
      "1136/1136 [==============================] - 1s 564us/step - loss: 2.7144\n",
      "Epoch 9/30\n",
      "1136/1136 [==============================] - 1s 549us/step - loss: 2.6658\n",
      "Epoch 10/30\n",
      "1136/1136 [==============================] - 1s 546us/step - loss: 2.6271\n",
      "Epoch 11/30\n",
      "1136/1136 [==============================] - 1s 544us/step - loss: 2.6153\n",
      "Epoch 12/30\n",
      "1136/1136 [==============================] - 1s 552us/step - loss: 2.6004\n",
      "Epoch 13/30\n",
      "1136/1136 [==============================] - 1s 573us/step - loss: 2.5678\n",
      "Epoch 14/30\n",
      "1136/1136 [==============================] - 1s 548us/step - loss: 2.5636\n",
      "Epoch 15/30\n",
      "1136/1136 [==============================] - 1s 569us/step - loss: 2.5647\n",
      "Epoch 16/30\n",
      "1136/1136 [==============================] - 1s 565us/step - loss: 2.5587\n",
      "Epoch 17/30\n",
      "1136/1136 [==============================] - 1s 546us/step - loss: 2.5489\n",
      "Epoch 18/30\n",
      "1136/1136 [==============================] - 1s 700us/step - loss: 2.5349\n",
      "Epoch 19/30\n",
      "1136/1136 [==============================] - 1s 679us/step - loss: 2.5285\n",
      "Epoch 20/30\n",
      "1136/1136 [==============================] - 1s 543us/step - loss: 2.5248\n",
      "Epoch 21/30\n",
      "1136/1136 [==============================] - 1s 552us/step - loss: 2.5161\n",
      "Epoch 22/30\n",
      "1136/1136 [==============================] - 1s 547us/step - loss: 2.5352\n",
      "Epoch 23/30\n",
      "1136/1136 [==============================] - 1s 562us/step - loss: 2.5046\n",
      "Epoch 24/30\n",
      "1136/1136 [==============================] - 1s 703us/step - loss: 2.5018\n",
      "Epoch 25/30\n",
      "1136/1136 [==============================] - 1s 729us/step - loss: 2.5119\n",
      "Epoch 26/30\n",
      "1136/1136 [==============================] - 1s 535us/step - loss: 2.5026\n",
      "Epoch 27/30\n",
      "1136/1136 [==============================] - 1s 535us/step - loss: 2.4961\n",
      "Epoch 28/30\n",
      "1136/1136 [==============================] - 1s 548us/step - loss: 2.5015\n",
      "Epoch 29/30\n",
      "1136/1136 [==============================] - 1s 543us/step - loss: 2.5120\n",
      "Epoch 30/30\n",
      "1136/1136 [==============================] - 1s 570us/step - loss: 2.4832\n",
      "284/284 [==============================] - 0s 380us/step - loss: 0.2382\n",
      "Results: -0.218 (0.023) MSE\n"
     ]
    }
   ],
   "source": [
    "kfold = KFold(n_splits=5, random_state=42)\n",
    "results = cross_val_score(estimator, X_pca_train, y, cv=kfold)\n",
    "print(\"Results: %.3f (%.3f) MSE\" % (results.mean(), results.std()))"
   ]
  },
  {
   "cell_type": "code",
   "execution_count": 120,
   "metadata": {},
   "outputs": [
    {
     "name": "stdout",
     "output_type": "stream",
     "text": [
      "Epoch 1/30\n",
      "1420/1420 [==============================] - 1s 523us/step - loss: 623.9388\n",
      "Epoch 2/30\n",
      "1420/1420 [==============================] - 1s 517us/step - loss: 8.8250\n",
      "Epoch 3/30\n",
      "1420/1420 [==============================] - 1s 518us/step - loss: 3.8978\n",
      "Epoch 4/30\n",
      "1420/1420 [==============================] - 1s 519us/step - loss: 2.9973\n",
      "Epoch 5/30\n",
      "1420/1420 [==============================] - 1s 525us/step - loss: 2.7599\n",
      "Epoch 6/30\n",
      "1420/1420 [==============================] - 1s 524us/step - loss: 2.6516\n",
      "Epoch 7/30\n",
      "1420/1420 [==============================] - 1s 526us/step - loss: 2.5951\n",
      "Epoch 8/30\n",
      "1420/1420 [==============================] - 1s 521us/step - loss: 2.5538\n",
      "Epoch 9/30\n",
      "1420/1420 [==============================] - 1s 531us/step - loss: 2.5397\n",
      "Epoch 10/30\n",
      "1420/1420 [==============================] - 1s 544us/step - loss: 2.5197\n",
      "Epoch 11/30\n",
      "1420/1420 [==============================] - 1s 539us/step - loss: 2.5050\n",
      "Epoch 12/30\n",
      "1420/1420 [==============================] - 1s 538us/step - loss: 2.4976\n",
      "Epoch 13/30\n",
      "1420/1420 [==============================] - 1s 587us/step - loss: 2.4913\n",
      "Epoch 14/30\n",
      "1420/1420 [==============================] - 1s 690us/step - loss: 2.4881\n",
      "Epoch 15/30\n",
      "1420/1420 [==============================] - 1s 663us/step - loss: 2.4731\n",
      "Epoch 16/30\n",
      "1420/1420 [==============================] - 1s 640us/step - loss: 2.4765\n",
      "Epoch 17/30\n",
      "1420/1420 [==============================] - 1s 552us/step - loss: 2.4720\n",
      "Epoch 18/30\n",
      "1420/1420 [==============================] - 1s 550us/step - loss: 2.4620\n",
      "Epoch 19/30\n",
      "1420/1420 [==============================] - 1s 672us/step - loss: 2.4601\n",
      "Epoch 20/30\n",
      "1420/1420 [==============================] - 1s 547us/step - loss: 2.4710\n",
      "Epoch 21/30\n",
      "1420/1420 [==============================] - 1s 536us/step - loss: 2.4671\n",
      "Epoch 22/30\n",
      "1420/1420 [==============================] - 1s 539us/step - loss: 2.4501\n",
      "Epoch 23/30\n",
      "1420/1420 [==============================] - 1s 545us/step - loss: 2.4494\n",
      "Epoch 24/30\n",
      "1420/1420 [==============================] - 1s 548us/step - loss: 2.4479\n",
      "Epoch 25/30\n",
      "1420/1420 [==============================] - 1s 571us/step - loss: 2.4397\n",
      "Epoch 26/30\n",
      "1420/1420 [==============================] - 1s 581us/step - loss: 2.4416\n",
      "Epoch 27/30\n",
      "1420/1420 [==============================] - 1s 560us/step - loss: 2.4451\n",
      "Epoch 28/30\n",
      "1420/1420 [==============================] - 1s 554us/step - loss: 2.4342\n",
      "Epoch 29/30\n",
      "1420/1420 [==============================] - 1s 554us/step - loss: 2.4321\n",
      "Epoch 30/30\n",
      "1420/1420 [==============================] - 1s 557us/step - loss: 2.4376\n",
      "1420/1420 [==============================] - 0s 338us/step\n"
     ]
    },
    {
     "ename": "NameError",
     "evalue": "name 'accuracy_score' is not defined",
     "output_type": "error",
     "traceback": [
      "\u001b[0;31m---------------------------------------------------------------------------\u001b[0m",
      "\u001b[0;31mNameError\u001b[0m                                 Traceback (most recent call last)",
      "\u001b[0;32m<ipython-input-120-bc4fbf338379>\u001b[0m in \u001b[0;36m<module>\u001b[0;34m\u001b[0m\n\u001b[1;32m      1\u001b[0m \u001b[0mestimator\u001b[0m\u001b[0;34m.\u001b[0m\u001b[0mfit\u001b[0m\u001b[0;34m(\u001b[0m\u001b[0mX_pca_train\u001b[0m\u001b[0;34m,\u001b[0m \u001b[0my\u001b[0m\u001b[0;34m)\u001b[0m\u001b[0;34m\u001b[0m\u001b[0;34m\u001b[0m\u001b[0m\n\u001b[1;32m      2\u001b[0m \u001b[0mprediction\u001b[0m \u001b[0;34m=\u001b[0m \u001b[0mestimator\u001b[0m\u001b[0;34m.\u001b[0m\u001b[0mpredict\u001b[0m\u001b[0;34m(\u001b[0m\u001b[0mX_pca_train\u001b[0m\u001b[0;34m)\u001b[0m\u001b[0;34m\u001b[0m\u001b[0;34m\u001b[0m\u001b[0m\n\u001b[0;32m----> 3\u001b[0;31m \u001b[0maccuracy_score\u001b[0m\u001b[0;34m(\u001b[0m\u001b[0my\u001b[0m\u001b[0;34m,\u001b[0m \u001b[0mprediction\u001b[0m\u001b[0;34m)\u001b[0m\u001b[0;34m\u001b[0m\u001b[0;34m\u001b[0m\u001b[0m\n\u001b[0m",
      "\u001b[0;31mNameError\u001b[0m: name 'accuracy_score' is not defined"
     ]
    }
   ],
   "source": [
    "estimator.fit(X_pca_train, y)\n",
    "prediction = estimator.predict(X_pca_train)"
   ]
  },
  {
   "cell_type": "code",
   "execution_count": 123,
   "metadata": {},
   "outputs": [],
   "source": [
    "df_test1 = pd.read_csv(\"/Users/kaushik/OneDrive/GL/Hackathon/Test Zip/frequency_domain_features_test.csv\")\n",
    "df_test2 = pd.read_csv(\"/Users/kaushik/OneDrive/GL/Hackathon/Test Zip/heart_rate_non_linear_features_test.csv\")\n",
    "df_test3 = pd.read_csv(\"/Users/kaushik/OneDrive/GL/Hackathon/Test Zip/time_domain_features_test.csv\")"
   ]
  },
  {
   "cell_type": "code",
   "execution_count": 124,
   "metadata": {},
   "outputs": [],
   "source": [
    "df_test = pd.merge(df_test1, df_test2, on='uuid')"
   ]
  },
  {
   "cell_type": "code",
   "execution_count": 125,
   "metadata": {},
   "outputs": [],
   "source": [
    "df_test = pd.merge(df_test, df_test3, on='uuid')"
   ]
  },
  {
   "cell_type": "code",
   "execution_count": 126,
   "metadata": {},
   "outputs": [],
   "source": [
    "df_test = df_test.drop([\"datasetId\"], axis =1)"
   ]
  },
  {
   "cell_type": "code",
   "execution_count": 127,
   "metadata": {},
   "outputs": [],
   "source": [
    "_id = df_test[\"uuid\"]"
   ]
  },
  {
   "cell_type": "code",
   "execution_count": 128,
   "metadata": {},
   "outputs": [],
   "source": [
    "test = df_test.drop([\"uuid\"], axis = 1)"
   ]
  },
  {
   "cell_type": "code",
   "execution_count": 129,
   "metadata": {},
   "outputs": [],
   "source": [
    "test = pd.get_dummies(test, prefix=['condition'], prefix_sep='_', dummy_na=False, columns=['condition'])"
   ]
  },
  {
   "cell_type": "code",
   "execution_count": 130,
   "metadata": {},
   "outputs": [
    {
     "data": {
      "text/plain": [
       "(41033, 36)"
      ]
     },
     "execution_count": 130,
     "metadata": {},
     "output_type": "execute_result"
    }
   ],
   "source": [
    "test.shape"
   ]
  },
  {
   "cell_type": "code",
   "execution_count": 131,
   "metadata": {},
   "outputs": [],
   "source": [
    "X_scale = scaler.transform(test)   # scale the training data"
   ]
  },
  {
   "cell_type": "code",
   "execution_count": 132,
   "metadata": {},
   "outputs": [],
   "source": [
    "X_test = pca.transform(X_scale)"
   ]
  },
  {
   "cell_type": "code",
   "execution_count": 133,
   "metadata": {},
   "outputs": [
    {
     "name": "stdout",
     "output_type": "stream",
     "text": [
      "161/161 [==============================] - 0s 429us/step\n"
     ]
    }
   ],
   "source": [
    "HR = estimator.predict(X_test)"
   ]
  },
  {
   "cell_type": "code",
   "execution_count": 142,
   "metadata": {},
   "outputs": [],
   "source": [
    "HR = pd.DataFrame(data=HR.flatten())"
   ]
  },
  {
   "cell_type": "code",
   "execution_count": 147,
   "metadata": {},
   "outputs": [
    {
     "data": {
      "text/html": [
       "<div>\n",
       "<style scoped>\n",
       "    .dataframe tbody tr th:only-of-type {\n",
       "        vertical-align: middle;\n",
       "    }\n",
       "\n",
       "    .dataframe tbody tr th {\n",
       "        vertical-align: top;\n",
       "    }\n",
       "\n",
       "    .dataframe thead th {\n",
       "        text-align: right;\n",
       "    }\n",
       "</style>\n",
       "<table border=\"1\" class=\"dataframe\">\n",
       "  <thead>\n",
       "    <tr style=\"text-align: right;\">\n",
       "      <th></th>\n",
       "      <th>VLF</th>\n",
       "      <th>VLF_PCT</th>\n",
       "      <th>LF</th>\n",
       "      <th>LF_PCT</th>\n",
       "      <th>LF_NU</th>\n",
       "      <th>HF</th>\n",
       "      <th>HF_PCT</th>\n",
       "      <th>HF_NU</th>\n",
       "      <th>TP</th>\n",
       "      <th>LF_HF</th>\n",
       "      <th>HF_LF</th>\n",
       "      <th>SD1</th>\n",
       "      <th>SD2</th>\n",
       "      <th>sampen</th>\n",
       "      <th>higuci</th>\n",
       "      <th>MEAN_RR</th>\n",
       "      <th>MEDIAN_RR</th>\n",
       "      <th>SDRR</th>\n",
       "      <th>RMSSD</th>\n",
       "      <th>SDSD</th>\n",
       "      <th>SDRR_RMSSD</th>\n",
       "      <th>pNN25</th>\n",
       "      <th>pNN50</th>\n",
       "      <th>KURT</th>\n",
       "      <th>SKEW</th>\n",
       "      <th>MEAN_REL_RR</th>\n",
       "      <th>MEDIAN_REL_RR</th>\n",
       "      <th>SDRR_REL_RR</th>\n",
       "      <th>RMSSD_REL_RR</th>\n",
       "      <th>SDSD_REL_RR</th>\n",
       "      <th>SDRR_RMSSD_REL_RR</th>\n",
       "      <th>KURT_REL_RR</th>\n",
       "      <th>SKEW_REL_RR</th>\n",
       "      <th>condition_interruption</th>\n",
       "      <th>condition_no stress</th>\n",
       "      <th>condition_time pressure</th>\n",
       "    </tr>\n",
       "  </thead>\n",
       "  <tbody>\n",
       "    <tr>\n",
       "      <th>0</th>\n",
       "      <td>1868.532278</td>\n",
       "      <td>76.511189</td>\n",
       "      <td>570.643114</td>\n",
       "      <td>23.366245</td>\n",
       "      <td>99.478197</td>\n",
       "      <td>2.993254</td>\n",
       "      <td>0.122565</td>\n",
       "      <td>0.521803</td>\n",
       "      <td>2442.168645</td>\n",
       "      <td>190.643094</td>\n",
       "      <td>0.005245</td>\n",
       "      <td>8.347898</td>\n",
       "      <td>115.862444</td>\n",
       "      <td>2.209659</td>\n",
       "      <td>1.100715</td>\n",
       "      <td>934.665288</td>\n",
       "      <td>939.03173</td>\n",
       "      <td>82.139495</td>\n",
       "      <td>11.801781</td>\n",
       "      <td>11.801772</td>\n",
       "      <td>6.959924</td>\n",
       "      <td>3.933333</td>\n",
       "      <td>0.133333</td>\n",
       "      <td>-0.680262</td>\n",
       "      <td>-0.233075</td>\n",
       "      <td>0.000016</td>\n",
       "      <td>0.000288</td>\n",
       "      <td>0.012933</td>\n",
       "      <td>0.004578</td>\n",
       "      <td>0.004578</td>\n",
       "      <td>2.825038</td>\n",
       "      <td>-0.680262</td>\n",
       "      <td>-0.233075</td>\n",
       "      <td>0</td>\n",
       "      <td>0</td>\n",
       "      <td>1</td>\n",
       "    </tr>\n",
       "    <tr>\n",
       "      <th>1</th>\n",
       "      <td>568.742845</td>\n",
       "      <td>26.301350</td>\n",
       "      <td>1553.971621</td>\n",
       "      <td>71.862973</td>\n",
       "      <td>97.509212</td>\n",
       "      <td>39.694850</td>\n",
       "      <td>1.835677</td>\n",
       "      <td>2.490788</td>\n",
       "      <td>2162.409316</td>\n",
       "      <td>39.147940</td>\n",
       "      <td>0.025544</td>\n",
       "      <td>14.542096</td>\n",
       "      <td>77.118903</td>\n",
       "      <td>2.186132</td>\n",
       "      <td>1.290615</td>\n",
       "      <td>817.062380</td>\n",
       "      <td>816.33879</td>\n",
       "      <td>55.492332</td>\n",
       "      <td>20.558810</td>\n",
       "      <td>20.558768</td>\n",
       "      <td>2.699200</td>\n",
       "      <td>24.600000</td>\n",
       "      <td>0.533333</td>\n",
       "      <td>-0.034454</td>\n",
       "      <td>-0.051689</td>\n",
       "      <td>0.000040</td>\n",
       "      <td>-0.002749</td>\n",
       "      <td>0.025148</td>\n",
       "      <td>0.013921</td>\n",
       "      <td>0.013921</td>\n",
       "      <td>1.806517</td>\n",
       "      <td>-0.034454</td>\n",
       "      <td>-0.051689</td>\n",
       "      <td>0</td>\n",
       "      <td>1</td>\n",
       "      <td>0</td>\n",
       "    </tr>\n",
       "    <tr>\n",
       "      <th>2</th>\n",
       "      <td>2101.871207</td>\n",
       "      <td>75.836461</td>\n",
       "      <td>655.175895</td>\n",
       "      <td>23.639042</td>\n",
       "      <td>97.829386</td>\n",
       "      <td>14.536877</td>\n",
       "      <td>0.524497</td>\n",
       "      <td>2.170614</td>\n",
       "      <td>2771.583978</td>\n",
       "      <td>45.069921</td>\n",
       "      <td>0.022188</td>\n",
       "      <td>9.799336</td>\n",
       "      <td>125.044377</td>\n",
       "      <td>2.051571</td>\n",
       "      <td>1.226663</td>\n",
       "      <td>876.762022</td>\n",
       "      <td>894.19889</td>\n",
       "      <td>88.690820</td>\n",
       "      <td>13.853737</td>\n",
       "      <td>13.853730</td>\n",
       "      <td>6.401942</td>\n",
       "      <td>7.066667</td>\n",
       "      <td>0.533333</td>\n",
       "      <td>-0.206953</td>\n",
       "      <td>-0.589940</td>\n",
       "      <td>0.000010</td>\n",
       "      <td>-0.000172</td>\n",
       "      <td>0.015533</td>\n",
       "      <td>0.008149</td>\n",
       "      <td>0.008149</td>\n",
       "      <td>1.906180</td>\n",
       "      <td>-0.206953</td>\n",
       "      <td>-0.589940</td>\n",
       "      <td>0</td>\n",
       "      <td>1</td>\n",
       "      <td>0</td>\n",
       "    </tr>\n",
       "    <tr>\n",
       "      <th>3</th>\n",
       "      <td>5757.544433</td>\n",
       "      <td>90.562305</td>\n",
       "      <td>592.913021</td>\n",
       "      <td>9.326123</td>\n",
       "      <td>98.817806</td>\n",
       "      <td>7.093235</td>\n",
       "      <td>0.111572</td>\n",
       "      <td>1.182194</td>\n",
       "      <td>6357.550689</td>\n",
       "      <td>83.588517</td>\n",
       "      <td>0.011963</td>\n",
       "      <td>11.639185</td>\n",
       "      <td>302.029812</td>\n",
       "      <td>2.080910</td>\n",
       "      <td>1.085143</td>\n",
       "      <td>1038.640693</td>\n",
       "      <td>998.91429</td>\n",
       "      <td>213.725850</td>\n",
       "      <td>16.457194</td>\n",
       "      <td>16.454801</td>\n",
       "      <td>12.986774</td>\n",
       "      <td>10.800000</td>\n",
       "      <td>1.866667</td>\n",
       "      <td>-0.820407</td>\n",
       "      <td>0.487198</td>\n",
       "      <td>-0.000238</td>\n",
       "      <td>-0.000464</td>\n",
       "      <td>0.016882</td>\n",
       "      <td>0.007587</td>\n",
       "      <td>0.007587</td>\n",
       "      <td>2.225116</td>\n",
       "      <td>-0.820407</td>\n",
       "      <td>0.487198</td>\n",
       "      <td>0</td>\n",
       "      <td>0</td>\n",
       "      <td>1</td>\n",
       "    </tr>\n",
       "    <tr>\n",
       "      <th>4</th>\n",
       "      <td>964.696325</td>\n",
       "      <td>70.256575</td>\n",
       "      <td>374.939530</td>\n",
       "      <td>27.305968</td>\n",
       "      <td>91.805057</td>\n",
       "      <td>33.468834</td>\n",
       "      <td>2.437457</td>\n",
       "      <td>8.194943</td>\n",
       "      <td>1373.104689</td>\n",
       "      <td>11.202647</td>\n",
       "      <td>0.089265</td>\n",
       "      <td>7.266567</td>\n",
       "      <td>72.579248</td>\n",
       "      <td>2.068728</td>\n",
       "      <td>1.252547</td>\n",
       "      <td>774.548508</td>\n",
       "      <td>778.90508</td>\n",
       "      <td>51.577855</td>\n",
       "      <td>10.273114</td>\n",
       "      <td>10.273049</td>\n",
       "      <td>5.020664</td>\n",
       "      <td>2.000000</td>\n",
       "      <td>0.066667</td>\n",
       "      <td>1.738453</td>\n",
       "      <td>-0.005082</td>\n",
       "      <td>0.000054</td>\n",
       "      <td>-0.000006</td>\n",
       "      <td>0.013479</td>\n",
       "      <td>0.007811</td>\n",
       "      <td>0.007811</td>\n",
       "      <td>1.725606</td>\n",
       "      <td>1.738453</td>\n",
       "      <td>-0.005082</td>\n",
       "      <td>1</td>\n",
       "      <td>0</td>\n",
       "      <td>0</td>\n",
       "    </tr>\n",
       "  </tbody>\n",
       "</table>\n",
       "</div>"
      ],
      "text/plain": [
       "           VLF    VLF_PCT           LF     LF_PCT      LF_NU         HF  \\\n",
       "0  1868.532278  76.511189   570.643114  23.366245  99.478197   2.993254   \n",
       "1   568.742845  26.301350  1553.971621  71.862973  97.509212  39.694850   \n",
       "2  2101.871207  75.836461   655.175895  23.639042  97.829386  14.536877   \n",
       "3  5757.544433  90.562305   592.913021   9.326123  98.817806   7.093235   \n",
       "4   964.696325  70.256575   374.939530  27.305968  91.805057  33.468834   \n",
       "\n",
       "     HF_PCT     HF_NU           TP       LF_HF     HF_LF        SD1  \\\n",
       "0  0.122565  0.521803  2442.168645  190.643094  0.005245   8.347898   \n",
       "1  1.835677  2.490788  2162.409316   39.147940  0.025544  14.542096   \n",
       "2  0.524497  2.170614  2771.583978   45.069921  0.022188   9.799336   \n",
       "3  0.111572  1.182194  6357.550689   83.588517  0.011963  11.639185   \n",
       "4  2.437457  8.194943  1373.104689   11.202647  0.089265   7.266567   \n",
       "\n",
       "          SD2    sampen    higuci      MEAN_RR  MEDIAN_RR        SDRR  \\\n",
       "0  115.862444  2.209659  1.100715   934.665288  939.03173   82.139495   \n",
       "1   77.118903  2.186132  1.290615   817.062380  816.33879   55.492332   \n",
       "2  125.044377  2.051571  1.226663   876.762022  894.19889   88.690820   \n",
       "3  302.029812  2.080910  1.085143  1038.640693  998.91429  213.725850   \n",
       "4   72.579248  2.068728  1.252547   774.548508  778.90508   51.577855   \n",
       "\n",
       "       RMSSD       SDSD  SDRR_RMSSD      pNN25     pNN50      KURT      SKEW  \\\n",
       "0  11.801781  11.801772    6.959924   3.933333  0.133333 -0.680262 -0.233075   \n",
       "1  20.558810  20.558768    2.699200  24.600000  0.533333 -0.034454 -0.051689   \n",
       "2  13.853737  13.853730    6.401942   7.066667  0.533333 -0.206953 -0.589940   \n",
       "3  16.457194  16.454801   12.986774  10.800000  1.866667 -0.820407  0.487198   \n",
       "4  10.273114  10.273049    5.020664   2.000000  0.066667  1.738453 -0.005082   \n",
       "\n",
       "   MEAN_REL_RR  MEDIAN_REL_RR  SDRR_REL_RR  RMSSD_REL_RR  SDSD_REL_RR  \\\n",
       "0     0.000016       0.000288     0.012933      0.004578     0.004578   \n",
       "1     0.000040      -0.002749     0.025148      0.013921     0.013921   \n",
       "2     0.000010      -0.000172     0.015533      0.008149     0.008149   \n",
       "3    -0.000238      -0.000464     0.016882      0.007587     0.007587   \n",
       "4     0.000054      -0.000006     0.013479      0.007811     0.007811   \n",
       "\n",
       "   SDRR_RMSSD_REL_RR  KURT_REL_RR  SKEW_REL_RR  condition_interruption  \\\n",
       "0           2.825038    -0.680262    -0.233075                       0   \n",
       "1           1.806517    -0.034454    -0.051689                       0   \n",
       "2           1.906180    -0.206953    -0.589940                       0   \n",
       "3           2.225116    -0.820407     0.487198                       0   \n",
       "4           1.725606     1.738453    -0.005082                       1   \n",
       "\n",
       "   condition_no stress  condition_time pressure  \n",
       "0                    0                        1  \n",
       "1                    1                        0  \n",
       "2                    1                        0  \n",
       "3                    0                        1  \n",
       "4                    0                        0  "
      ]
     },
     "execution_count": 147,
     "metadata": {},
     "output_type": "execute_result"
    }
   ],
   "source": [
    "test.head()"
   ]
  },
  {
   "cell_type": "code",
   "execution_count": 168,
   "metadata": {},
   "outputs": [],
   "source": [
    "output = pd.concat([_id, HR], axis = 1)"
   ]
  },
  {
   "cell_type": "code",
   "execution_count": 169,
   "metadata": {},
   "outputs": [
    {
     "data": {
      "text/html": [
       "<div>\n",
       "<style scoped>\n",
       "    .dataframe tbody tr th:only-of-type {\n",
       "        vertical-align: middle;\n",
       "    }\n",
       "\n",
       "    .dataframe tbody tr th {\n",
       "        vertical-align: top;\n",
       "    }\n",
       "\n",
       "    .dataframe thead th {\n",
       "        text-align: right;\n",
       "    }\n",
       "</style>\n",
       "<table border=\"1\" class=\"dataframe\">\n",
       "  <thead>\n",
       "    <tr style=\"text-align: right;\">\n",
       "      <th></th>\n",
       "      <th>uuid</th>\n",
       "      <th>0</th>\n",
       "    </tr>\n",
       "  </thead>\n",
       "  <tbody>\n",
       "    <tr>\n",
       "      <th>0</th>\n",
       "      <td>62b75db5-bc40-4c8f-9166-daf0efcab4c2</td>\n",
       "      <td>64.308411</td>\n",
       "    </tr>\n",
       "    <tr>\n",
       "      <th>1</th>\n",
       "      <td>a99549ad-3eb6-4413-bc90-9053e7f7e684</td>\n",
       "      <td>73.738373</td>\n",
       "    </tr>\n",
       "    <tr>\n",
       "      <th>2</th>\n",
       "      <td>cb573d3a-c767-4556-b32e-ad8c08ded214</td>\n",
       "      <td>69.167885</td>\n",
       "    </tr>\n",
       "    <tr>\n",
       "      <th>3</th>\n",
       "      <td>47a0c6de-2aef-4ac3-997d-252fa6fd07f1</td>\n",
       "      <td>61.020229</td>\n",
       "    </tr>\n",
       "    <tr>\n",
       "      <th>4</th>\n",
       "      <td>de3fd54f-c74e-4fe8-bf2a-7a127f68b312</td>\n",
       "      <td>77.008064</td>\n",
       "    </tr>\n",
       "  </tbody>\n",
       "</table>\n",
       "</div>"
      ],
      "text/plain": [
       "                                   uuid          0\n",
       "0  62b75db5-bc40-4c8f-9166-daf0efcab4c2  64.308411\n",
       "1  a99549ad-3eb6-4413-bc90-9053e7f7e684  73.738373\n",
       "2  cb573d3a-c767-4556-b32e-ad8c08ded214  69.167885\n",
       "3  47a0c6de-2aef-4ac3-997d-252fa6fd07f1  61.020229\n",
       "4  de3fd54f-c74e-4fe8-bf2a-7a127f68b312  77.008064"
      ]
     },
     "execution_count": 169,
     "metadata": {},
     "output_type": "execute_result"
    }
   ],
   "source": [
    "output.head()"
   ]
  },
  {
   "cell_type": "code",
   "execution_count": 170,
   "metadata": {},
   "outputs": [
    {
     "data": {
      "text/plain": [
       "(41033, 2)"
      ]
     },
     "execution_count": 170,
     "metadata": {},
     "output_type": "execute_result"
    }
   ],
   "source": [
    "output.shape"
   ]
  },
  {
   "cell_type": "code",
   "execution_count": 172,
   "metadata": {},
   "outputs": [],
   "source": [
    "output.rename(columns = {'0':'HR'}, inplace = True)"
   ]
  },
  {
   "cell_type": "code",
   "execution_count": 173,
   "metadata": {},
   "outputs": [
    {
     "data": {
      "text/html": [
       "<div>\n",
       "<style scoped>\n",
       "    .dataframe tbody tr th:only-of-type {\n",
       "        vertical-align: middle;\n",
       "    }\n",
       "\n",
       "    .dataframe tbody tr th {\n",
       "        vertical-align: top;\n",
       "    }\n",
       "\n",
       "    .dataframe thead th {\n",
       "        text-align: right;\n",
       "    }\n",
       "</style>\n",
       "<table border=\"1\" class=\"dataframe\">\n",
       "  <thead>\n",
       "    <tr style=\"text-align: right;\">\n",
       "      <th></th>\n",
       "      <th>uuid</th>\n",
       "      <th>0</th>\n",
       "    </tr>\n",
       "  </thead>\n",
       "  <tbody>\n",
       "    <tr>\n",
       "      <th>0</th>\n",
       "      <td>62b75db5-bc40-4c8f-9166-daf0efcab4c2</td>\n",
       "      <td>64.308411</td>\n",
       "    </tr>\n",
       "    <tr>\n",
       "      <th>1</th>\n",
       "      <td>a99549ad-3eb6-4413-bc90-9053e7f7e684</td>\n",
       "      <td>73.738373</td>\n",
       "    </tr>\n",
       "    <tr>\n",
       "      <th>2</th>\n",
       "      <td>cb573d3a-c767-4556-b32e-ad8c08ded214</td>\n",
       "      <td>69.167885</td>\n",
       "    </tr>\n",
       "    <tr>\n",
       "      <th>3</th>\n",
       "      <td>47a0c6de-2aef-4ac3-997d-252fa6fd07f1</td>\n",
       "      <td>61.020229</td>\n",
       "    </tr>\n",
       "    <tr>\n",
       "      <th>4</th>\n",
       "      <td>de3fd54f-c74e-4fe8-bf2a-7a127f68b312</td>\n",
       "      <td>77.008064</td>\n",
       "    </tr>\n",
       "  </tbody>\n",
       "</table>\n",
       "</div>"
      ],
      "text/plain": [
       "                                   uuid          0\n",
       "0  62b75db5-bc40-4c8f-9166-daf0efcab4c2  64.308411\n",
       "1  a99549ad-3eb6-4413-bc90-9053e7f7e684  73.738373\n",
       "2  cb573d3a-c767-4556-b32e-ad8c08ded214  69.167885\n",
       "3  47a0c6de-2aef-4ac3-997d-252fa6fd07f1  61.020229\n",
       "4  de3fd54f-c74e-4fe8-bf2a-7a127f68b312  77.008064"
      ]
     },
     "execution_count": 173,
     "metadata": {},
     "output_type": "execute_result"
    }
   ],
   "source": [
    "output.head()"
   ]
  },
  {
   "cell_type": "code",
   "execution_count": 158,
   "metadata": {},
   "outputs": [],
   "source": [
    "output.to_csv(\"/Users/kaushik/Desktop/GL_projects/hackathon/output.csv\", index = False)"
   ]
  },
  {
   "cell_type": "code",
   "execution_count": 159,
   "metadata": {},
   "outputs": [],
   "source": [
    "dataframe = pd.read_csv(\"/Users/kaushik/Desktop/GL_projects/hackathon/output.csv\")"
   ]
  }
 ],
 "metadata": {
  "kernelspec": {
   "display_name": "Python 3",
   "language": "python",
   "name": "python3"
  },
  "language_info": {
   "codemirror_mode": {
    "name": "ipython",
    "version": 3
   },
   "file_extension": ".py",
   "mimetype": "text/x-python",
   "name": "python",
   "nbconvert_exporter": "python",
   "pygments_lexer": "ipython3",
   "version": "3.8.3"
  }
 },
 "nbformat": 4,
 "nbformat_minor": 4
}
