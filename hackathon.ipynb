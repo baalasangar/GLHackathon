{
  "nbformat": 4,
  "nbformat_minor": 0,
  "metadata": {
    "kernelspec": {
      "display_name": "Python 3",
      "language": "python",
      "name": "python3"
    },
    "language_info": {
      "codemirror_mode": {
        "name": "ipython",
        "version": 3
      },
      "file_extension": ".py",
      "mimetype": "text/x-python",
      "name": "python",
      "nbconvert_exporter": "python",
      "pygments_lexer": "ipython3",
      "version": "3.8.3"
    },
    "colab": {
      "name": "hackathon.ipynb",
      "provenance": []
    }
  },
  "cells": [
    {
      "cell_type": "code",
      "metadata": {
        "colab": {
          "base_uri": "https://localhost:8080/"
        },
        "id": "HMqunaaxhKnB",
        "outputId": "693b7ae4-56bb-43ed-9bec-399201276044"
      },
      "source": [
        "from google.colab import drive\n",
        "drive.mount('/content/drive')"
      ],
      "execution_count": 188,
      "outputs": [
        {
          "output_type": "stream",
          "text": [
            "Drive already mounted at /content/drive; to attempt to forcibly remount, call drive.mount(\"/content/drive\", force_remount=True).\n"
          ],
          "name": "stdout"
        }
      ]
    },
    {
      "cell_type": "code",
      "metadata": {
        "id": "5pJsU-lbhAZ1"
      },
      "source": [
        "import sys\n",
        "import warnings                                 # `dnd` mode\n",
        "warnings.filterwarnings('ignore')"
      ],
      "execution_count": 189,
      "outputs": []
    },
    {
      "cell_type": "code",
      "metadata": {
        "id": "e2DZBRmFhAZ8"
      },
      "source": [
        "# Import necessary libraries\n",
        "\n",
        "#from simple_colors import *                     # print text formatting \n",
        "from pprint import pprint                       # import petty print\n",
        "import numpy as np                              # Import Numpy library for vectors, matrix, algebra\n",
        "import pandas as pd                             # Import Pandas library for dataframe preparation and manipulation\n",
        "import statistics                               # Import Statistics library for basic statistics, if required\n",
        "import statsmodels.api as sm                    # Statsmodel is an essential module to conduct statistical tests\n",
        "from scipy import stats                         # Scipy builds on Numpy for mathematical computation\n",
        "from scipy.stats import zscore                  # Import Zscore function from Scipy Stats module\n",
        "from scipy.stats import variation               # Compute coefficient of variation\n",
        "\n",
        "import matplotlib.pyplot as plt                 # Import Pyplot from matplotlib\n",
        "import seaborn as sns                           # Import Seaborn library for data visualization\n",
        "sns.set(color_codes = True)                     # data visualization\n",
        "\n",
        "from sklearn.preprocessing import LabelEncoder   # Import library to encode categorical data\n",
        "from sklearn.preprocessing import StandardScaler # Standard Scaler will be used for scaling the data\n",
        "from sklearn.neighbors import LocalOutlierFactor # To detect outliers using Local Outlier Factor\n",
        "from sklearn import model_selection          \n",
        "from sklearn.model_selection import train_test_split # Importing train test split for splitting data from Scikit Learn\n",
        "from sklearn.model_selection import GridSearchCV     # Hyperparameter tuning through looping\n",
        "from sklearn.pipeline import Pipeline                # Assemble multiple steps for crossvalidation\n",
        "from sklearn import metrics                          # Importing Metrics for Accuracy Testing from Scikit Learn\n",
        "from sklearn.metrics import precision_score, recall_score, f1_score, roc_auc_score, confusion_matrix #import the accuracy classes from the library. \n",
        "\n",
        "from sklearn.preprocessing import StandardScaler\n",
        "from sklearn.decomposition import PCA\n",
        "from keras.models import Sequential\n",
        "from keras.layers import Dense, Dropout, GaussianNoise, Conv1D\n",
        "from keras.utils import np_utils\n",
        "from keras.wrappers.scikit_learn import KerasRegressor\n",
        "from sklearn.model_selection import cross_val_score\n",
        "from sklearn.model_selection import KFold"
      ],
      "execution_count": 190,
      "outputs": []
    },
    {
      "cell_type": "code",
      "metadata": {
        "id": "eZHUPIsJhAZ9"
      },
      "source": [
        "# Set display of tables\n",
        "\n",
        "pd.set_option(\"display.max_column\", None) # set display of all columns\n",
        "pd.options.display.max_colwidth = 150     # increase column width to display large text\n",
        "pd.set_option(\"display.max_rows\", None) # set display of all rows"
      ],
      "execution_count": 191,
      "outputs": []
    },
    {
      "cell_type": "code",
      "metadata": {
        "id": "6xJ97-aehAZ-"
      },
      "source": [
        "%matplotlib inline"
      ],
      "execution_count": 192,
      "outputs": []
    },
    {
      "cell_type": "code",
      "metadata": {
        "id": "cegvBtRrhAZ-"
      },
      "source": [
        "df1 = pd.read_csv(\"/content/drive/MyDrive/Colab Notebooks/frequency_domain_features_train.csv\")\n",
        "df2 = pd.read_csv(\"/content/drive/MyDrive/Colab Notebooks/heart_rate_non_linear_features_train.csv\")\n",
        "df3 = pd.read_csv(\"/content/drive/MyDrive/Colab Notebooks/time_domain_features_train.csv\")"
      ],
      "execution_count": 193,
      "outputs": []
    },
    {
      "cell_type": "code",
      "metadata": {
        "id": "m9VGvvQihAZ_"
      },
      "source": [
        "# df_test1 = pd.read_csv(\"/Users/kaushik/OneDrive/GL/Hackathon/Test Zip/frequency_domain_features_test.csv\")\n",
        "# df_test2 = pd.read_csv(\"/Users/kaushik/OneDrive/GL/Hackathon/Test Zip/heart_rate_non_linear_features_test.csv\")\n",
        "# df_test3 = pd.read_csv(\"/Users/kaushik/OneDrive/GL/Hackathon/Test Zip/time_domain_features_test.csv\")"
      ],
      "execution_count": 194,
      "outputs": []
    },
    {
      "cell_type": "code",
      "metadata": {
        "id": "74byxxhshAZ_"
      },
      "source": [
        "df = pd.merge(df1, df2, on='uuid')"
      ],
      "execution_count": 195,
      "outputs": []
    },
    {
      "cell_type": "code",
      "metadata": {
        "id": "gspDXmh0hAZ_"
      },
      "source": [
        "df = pd.merge(df, df3, on='uuid')"
      ],
      "execution_count": 196,
      "outputs": []
    },
    {
      "cell_type": "code",
      "metadata": {
        "colab": {
          "base_uri": "https://localhost:8080/"
        },
        "id": "9kRImd7RhAaA",
        "outputId": "2187d959-ffe9-4e72-84b9-4cbd603ec883"
      },
      "source": [
        "df.shape"
      ],
      "execution_count": 197,
      "outputs": [
        {
          "output_type": "execute_result",
          "data": {
            "text/plain": [
              "(369289, 37)"
            ]
          },
          "metadata": {
            "tags": []
          },
          "execution_count": 197
        }
      ]
    },
    {
      "cell_type": "code",
      "metadata": {
        "colab": {
          "base_uri": "https://localhost:8080/"
        },
        "id": "ukDRL4lrhAaB",
        "outputId": "bb75eaf9-7742-4986-c5ab-aae8eeb8c443"
      },
      "source": [
        "df.info()"
      ],
      "execution_count": 198,
      "outputs": [
        {
          "output_type": "stream",
          "text": [
            "<class 'pandas.core.frame.DataFrame'>\n",
            "Int64Index: 369289 entries, 0 to 369288\n",
            "Data columns (total 37 columns):\n",
            " #   Column             Non-Null Count   Dtype  \n",
            "---  ------             --------------   -----  \n",
            " 0   uuid               369289 non-null  object \n",
            " 1   VLF                369289 non-null  float64\n",
            " 2   VLF_PCT            369289 non-null  float64\n",
            " 3   LF                 369289 non-null  float64\n",
            " 4   LF_PCT             369289 non-null  float64\n",
            " 5   LF_NU              369289 non-null  float64\n",
            " 6   HF                 369289 non-null  float64\n",
            " 7   HF_PCT             369289 non-null  float64\n",
            " 8   HF_NU              369289 non-null  float64\n",
            " 9   TP                 369289 non-null  float64\n",
            " 10  LF_HF              369289 non-null  float64\n",
            " 11  HF_LF              369289 non-null  float64\n",
            " 12  SD1                369289 non-null  float64\n",
            " 13  SD2                369289 non-null  float64\n",
            " 14  sampen             369289 non-null  float64\n",
            " 15  higuci             369289 non-null  float64\n",
            " 16  datasetId          369289 non-null  int64  \n",
            " 17  condition          369289 non-null  object \n",
            " 18  MEAN_RR            369289 non-null  float64\n",
            " 19  MEDIAN_RR          369289 non-null  float64\n",
            " 20  SDRR               369289 non-null  float64\n",
            " 21  RMSSD              369289 non-null  float64\n",
            " 22  SDSD               369289 non-null  float64\n",
            " 23  SDRR_RMSSD         369289 non-null  float64\n",
            " 24  HR                 369289 non-null  float64\n",
            " 25  pNN25              369289 non-null  float64\n",
            " 26  pNN50              369289 non-null  float64\n",
            " 27  KURT               369289 non-null  float64\n",
            " 28  SKEW               369289 non-null  float64\n",
            " 29  MEAN_REL_RR        369289 non-null  float64\n",
            " 30  MEDIAN_REL_RR      369289 non-null  float64\n",
            " 31  SDRR_REL_RR        369289 non-null  float64\n",
            " 32  RMSSD_REL_RR       369289 non-null  float64\n",
            " 33  SDSD_REL_RR        369289 non-null  float64\n",
            " 34  SDRR_RMSSD_REL_RR  369289 non-null  float64\n",
            " 35  KURT_REL_RR        369289 non-null  float64\n",
            " 36  SKEW_REL_RR        369289 non-null  float64\n",
            "dtypes: float64(34), int64(1), object(2)\n",
            "memory usage: 107.1+ MB\n"
          ],
          "name": "stdout"
        }
      ]
    },
    {
      "cell_type": "code",
      "metadata": {
        "id": "0P7EZt-AhAaB"
      },
      "source": [
        "df = df.drop([\"uuid\", \"datasetId\"], axis =1)"
      ],
      "execution_count": 199,
      "outputs": []
    },
    {
      "cell_type": "code",
      "metadata": {
        "id": "JXZBSj8MhAaB"
      },
      "source": [
        "df = pd.get_dummies(df, prefix=['condition'], prefix_sep='_', dummy_na=False, columns=['condition'])"
      ],
      "execution_count": 200,
      "outputs": []
    },
    {
      "cell_type": "code",
      "metadata": {
        "id": "dZiuMv95hAaC"
      },
      "source": [
        "indep_var = df.drop(['HR'], axis = 1)"
      ],
      "execution_count": 201,
      "outputs": []
    },
    {
      "cell_type": "code",
      "metadata": {
        "id": "BAIW4KamhAaC"
      },
      "source": [
        "col = indep_var.columns.to_list()"
      ],
      "execution_count": 202,
      "outputs": []
    },
    {
      "cell_type": "markdown",
      "metadata": {
        "id": "deJXUsejt0EQ"
      },
      "source": [
        "##### LOF"
      ]
    },
    {
      "cell_type": "code",
      "metadata": {
        "id": "SGn_x2DAhAaC"
      },
      "source": [
        "# Setting up the data. \n",
        "# K is fixed by passing the n_neighbors parameter with integer. \n",
        "# I have used the default Euclidean distance.\n",
        "#Training the model taking only independent variables\n",
        "#Getting the negative LOF score\n",
        "\n",
        "# lof = LocalOutlierFactor(n_neighbors = 15)\n",
        "# df['lof'] = lof.fit_predict(df[col])\n",
        "# df['negative_outlier_factor'] = lof.negative_outlier_factor_\n",
        "\n"
      ],
      "execution_count": 203,
      "outputs": []
    },
    {
      "cell_type": "markdown",
      "metadata": {
        "id": "XA7tlh9-wtUp"
      },
      "source": [
        "#### IsolationForest"
      ]
    },
    {
      "cell_type": "code",
      "metadata": {
        "id": "qyeE3YG1uBWh"
      },
      "source": [
        "# from sklearn.ensemble import IsolationForest\r\n",
        "# lof = IsolationForest(contamination = 0.1)\r\n",
        "# df['lof'] = lof.fit_predict(df[col])\r\n",
        "# df['negative_outlier_factor'] = 0"
      ],
      "execution_count": 204,
      "outputs": []
    },
    {
      "cell_type": "markdown",
      "metadata": {
        "id": "HDykvEtV3VuI"
      },
      "source": [
        "###EllipticEnvelope\r\n"
      ]
    },
    {
      "cell_type": "code",
      "metadata": {
        "id": "fBET5-5L3hvy"
      },
      "source": [
        "from sklearn.covariance import EllipticEnvelope\r\n",
        "lof = EllipticEnvelope(contamination = 0.01)\r\n",
        "df['lof'] = lof.fit_predict(df[col])\r\n",
        "df['negative_outlier_factor'] = 0"
      ],
      "execution_count": 205,
      "outputs": []
    },
    {
      "cell_type": "code",
      "metadata": {
        "colab": {
          "base_uri": "https://localhost:8080/"
        },
        "id": "ieG7NJOlhAaD",
        "outputId": "48521ee0-51c4-4c10-ad66-093e18aa05cf"
      },
      "source": [
        "# Detecting the outliers\n",
        "outliers = df[df['lof'] == -1]\n",
        "# Finding the number of outlier records\n",
        "n_outliers = outliers.shape[0]\n",
        "n_records = df.shape[0]\n",
        "percent_outliers = n_outliers/n_records*100\n",
        "print(round(percent_outliers, 2))"
      ],
      "execution_count": 207,
      "outputs": [
        {
          "output_type": "stream",
          "text": [
            "1.0\n"
          ],
          "name": "stdout"
        }
      ]
    },
    {
      "cell_type": "code",
      "metadata": {
        "id": "0jfYXvU4hAaD"
      },
      "source": [
        "# Droping the outlier records to create a new dataframe df1\n",
        "df = df.loc[df['lof'] >= 0]"
      ],
      "execution_count": 208,
      "outputs": []
    },
    {
      "cell_type": "code",
      "metadata": {
        "colab": {
          "base_uri": "https://localhost:8080/"
        },
        "id": "Xb5sBl9NhAaD",
        "outputId": "2ed3e4d9-fdc2-4e15-cc51-e35717f3acda"
      },
      "source": [
        "df.info()"
      ],
      "execution_count": 209,
      "outputs": [
        {
          "output_type": "stream",
          "text": [
            "<class 'pandas.core.frame.DataFrame'>\n",
            "Int64Index: 365596 entries, 0 to 369288\n",
            "Data columns (total 39 columns):\n",
            " #   Column                   Non-Null Count   Dtype  \n",
            "---  ------                   --------------   -----  \n",
            " 0   VLF                      365596 non-null  float64\n",
            " 1   VLF_PCT                  365596 non-null  float64\n",
            " 2   LF                       365596 non-null  float64\n",
            " 3   LF_PCT                   365596 non-null  float64\n",
            " 4   LF_NU                    365596 non-null  float64\n",
            " 5   HF                       365596 non-null  float64\n",
            " 6   HF_PCT                   365596 non-null  float64\n",
            " 7   HF_NU                    365596 non-null  float64\n",
            " 8   TP                       365596 non-null  float64\n",
            " 9   LF_HF                    365596 non-null  float64\n",
            " 10  HF_LF                    365596 non-null  float64\n",
            " 11  SD1                      365596 non-null  float64\n",
            " 12  SD2                      365596 non-null  float64\n",
            " 13  sampen                   365596 non-null  float64\n",
            " 14  higuci                   365596 non-null  float64\n",
            " 15  MEAN_RR                  365596 non-null  float64\n",
            " 16  MEDIAN_RR                365596 non-null  float64\n",
            " 17  SDRR                     365596 non-null  float64\n",
            " 18  RMSSD                    365596 non-null  float64\n",
            " 19  SDSD                     365596 non-null  float64\n",
            " 20  SDRR_RMSSD               365596 non-null  float64\n",
            " 21  HR                       365596 non-null  float64\n",
            " 22  pNN25                    365596 non-null  float64\n",
            " 23  pNN50                    365596 non-null  float64\n",
            " 24  KURT                     365596 non-null  float64\n",
            " 25  SKEW                     365596 non-null  float64\n",
            " 26  MEAN_REL_RR              365596 non-null  float64\n",
            " 27  MEDIAN_REL_RR            365596 non-null  float64\n",
            " 28  SDRR_REL_RR              365596 non-null  float64\n",
            " 29  RMSSD_REL_RR             365596 non-null  float64\n",
            " 30  SDSD_REL_RR              365596 non-null  float64\n",
            " 31  SDRR_RMSSD_REL_RR        365596 non-null  float64\n",
            " 32  KURT_REL_RR              365596 non-null  float64\n",
            " 33  SKEW_REL_RR              365596 non-null  float64\n",
            " 34  condition_interruption   365596 non-null  uint8  \n",
            " 35  condition_no stress      365596 non-null  uint8  \n",
            " 36  condition_time pressure  365596 non-null  uint8  \n",
            " 37  lof                      365596 non-null  int64  \n",
            " 38  negative_outlier_factor  365596 non-null  int64  \n",
            "dtypes: float64(34), int64(2), uint8(3)\n",
            "memory usage: 104.2 MB\n"
          ],
          "name": "stdout"
        }
      ]
    },
    {
      "cell_type": "code",
      "metadata": {
        "id": "c5ZvxNzihAaD"
      },
      "source": [
        "df = df.drop([\"lof\", \"negative_outlier_factor\"], axis = 1)"
      ],
      "execution_count": 210,
      "outputs": []
    },
    {
      "cell_type": "code",
      "metadata": {
        "colab": {
          "base_uri": "https://localhost:8080/"
        },
        "id": "euDuTi6vhAaE",
        "outputId": "616171e8-652e-46a8-86f4-a8c0fc1a6a51"
      },
      "source": [
        "df.info()"
      ],
      "execution_count": 211,
      "outputs": [
        {
          "output_type": "stream",
          "text": [
            "<class 'pandas.core.frame.DataFrame'>\n",
            "Int64Index: 365596 entries, 0 to 369288\n",
            "Data columns (total 37 columns):\n",
            " #   Column                   Non-Null Count   Dtype  \n",
            "---  ------                   --------------   -----  \n",
            " 0   VLF                      365596 non-null  float64\n",
            " 1   VLF_PCT                  365596 non-null  float64\n",
            " 2   LF                       365596 non-null  float64\n",
            " 3   LF_PCT                   365596 non-null  float64\n",
            " 4   LF_NU                    365596 non-null  float64\n",
            " 5   HF                       365596 non-null  float64\n",
            " 6   HF_PCT                   365596 non-null  float64\n",
            " 7   HF_NU                    365596 non-null  float64\n",
            " 8   TP                       365596 non-null  float64\n",
            " 9   LF_HF                    365596 non-null  float64\n",
            " 10  HF_LF                    365596 non-null  float64\n",
            " 11  SD1                      365596 non-null  float64\n",
            " 12  SD2                      365596 non-null  float64\n",
            " 13  sampen                   365596 non-null  float64\n",
            " 14  higuci                   365596 non-null  float64\n",
            " 15  MEAN_RR                  365596 non-null  float64\n",
            " 16  MEDIAN_RR                365596 non-null  float64\n",
            " 17  SDRR                     365596 non-null  float64\n",
            " 18  RMSSD                    365596 non-null  float64\n",
            " 19  SDSD                     365596 non-null  float64\n",
            " 20  SDRR_RMSSD               365596 non-null  float64\n",
            " 21  HR                       365596 non-null  float64\n",
            " 22  pNN25                    365596 non-null  float64\n",
            " 23  pNN50                    365596 non-null  float64\n",
            " 24  KURT                     365596 non-null  float64\n",
            " 25  SKEW                     365596 non-null  float64\n",
            " 26  MEAN_REL_RR              365596 non-null  float64\n",
            " 27  MEDIAN_REL_RR            365596 non-null  float64\n",
            " 28  SDRR_REL_RR              365596 non-null  float64\n",
            " 29  RMSSD_REL_RR             365596 non-null  float64\n",
            " 30  SDSD_REL_RR              365596 non-null  float64\n",
            " 31  SDRR_RMSSD_REL_RR        365596 non-null  float64\n",
            " 32  KURT_REL_RR              365596 non-null  float64\n",
            " 33  SKEW_REL_RR              365596 non-null  float64\n",
            " 34  condition_interruption   365596 non-null  uint8  \n",
            " 35  condition_no stress      365596 non-null  uint8  \n",
            " 36  condition_time pressure  365596 non-null  uint8  \n",
            "dtypes: float64(34), uint8(3)\n",
            "memory usage: 98.7 MB\n"
          ],
          "name": "stdout"
        }
      ]
    },
    {
      "cell_type": "code",
      "metadata": {
        "id": "4UVcKlkbhAaE"
      },
      "source": [
        "# Target and feature separation in original dataframe\n",
        "X = df.drop(labels= \"HR\" , axis = 1) \n",
        "y = df[\"HR\"]"
      ],
      "execution_count": 212,
      "outputs": []
    },
    {
      "cell_type": "code",
      "metadata": {
        "id": "HhX4-v2HhAaF"
      },
      "source": [
        "scaler = StandardScaler()                 # defining scaler\n",
        "X = scaler.fit_transform(X)   # scale the training data"
      ],
      "execution_count": 213,
      "outputs": []
    },
    {
      "cell_type": "code",
      "metadata": {
        "colab": {
          "base_uri": "https://localhost:8080/"
        },
        "id": "LQ69nAeKhAaF",
        "outputId": "451f39df-1a50-4aa3-930d-4151c0053968"
      },
      "source": [
        "pca = PCA(n_components=35)\n",
        "pca.fit(X)"
      ],
      "execution_count": 214,
      "outputs": [
        {
          "output_type": "execute_result",
          "data": {
            "text/plain": [
              "PCA(copy=True, iterated_power='auto', n_components=35, random_state=None,\n",
              "    svd_solver='auto', tol=0.0, whiten=False)"
            ]
          },
          "metadata": {
            "tags": []
          },
          "execution_count": 214
        }
      ]
    },
    {
      "cell_type": "code",
      "metadata": {
        "colab": {
          "base_uri": "https://localhost:8080/",
          "height": 302
        },
        "id": "qZIMG5nxhAaF",
        "outputId": "0014931e-5156-4535-e846-a6d4125d41c4"
      },
      "source": [
        "plt.plot(np.cumsum(pca.explained_variance_ratio_))\n",
        "plt.xlabel('Number of components')\n",
        "plt.ylabel('Cumulative explained variance')"
      ],
      "execution_count": 215,
      "outputs": [
        {
          "output_type": "execute_result",
          "data": {
            "text/plain": [
              "Text(0, 0.5, 'Cumulative explained variance')"
            ]
          },
          "metadata": {
            "tags": []
          },
          "execution_count": 215
        },
        {
          "output_type": "display_data",
          "data": {
            "image/png": "[encoded data removed]",
            "text/plain": [
              "<Figure size 432x288 with 1 Axes>"
            ]
          },
          "metadata": {
            "tags": [],
            "needs_background": "light"
          }
        }
      ]
    },
    {
      "cell_type": "code",
      "metadata": {
        "id": "JU78meF7hAaG"
      },
      "source": [
        "NCOMPONENTS = 16\n",
        "pca = PCA(n_components=NCOMPONENTS)\n",
        "X_pca_train = pca.fit_transform(X)\n",
        "\n",
        "pca_std = np.std(X_pca_train)\n",
        "pca_std"
      ],
      "execution_count": 216,
      "outputs": []
    },
    {
      "cell_type": "markdown",
      "metadata": {
        "id": "5gBVD_gX4HN4"
      },
      "source": [
        "### Nural n/w"
      ]
    },
    {
      "cell_type": "code",
      "metadata": {
        "id": "6jHlI8TPhAaG"
      },
      "source": [
        "# def mlp_model():\n",
        "#     model = Sequential()\n",
        "#     model.add(Dense(36, input_dim = NCOMPONENTS, activation = \"relu\"))\n",
        "#     model.add(Dense(16, activation = \"relu\"))\n",
        "#     model.add(Dense(4, activation = \"relu\"))\n",
        "#     model.add(Dense(1, kernel_initializer='normal'))\n",
        "#     model.add(GaussianNoise(pca_std))\n",
        "#     model.compile(loss=\"mean_squared_error\", optimizer='adam')\n",
        "#     return model\n",
        "\n",
        "# estimator = KerasRegressor(build_fn=mlp_model, epochs=30, batch_size=256, verbose=True)    \n",
        "\n",
        "# kfold = KFold(n_splits=5, random_state=42)\n",
        "# results = cross_val_score(estimator, X_pca_train, y, cv=kfold)\n",
        "# print(\"Results: %.3f (%.3f) MSE\" % (results.mean(), results.std()))\n",
        "\n",
        "# estimator.fit(X_pca_train, y)\n",
        "# prediction = estimator.predict(X_pca_train)\n",
        "\n",
        "# from sklearn.metrics import mean_absolute_error\n",
        "# print(mean_absolute_error(y,prediction))"
      ],
      "execution_count": 218,
      "outputs": []
    },
    {
      "cell_type": "markdown",
      "metadata": {
        "id": "U-vFufw64Q6Y"
      },
      "source": [
        "### Test data prediction"
      ]
    },
    {
      "cell_type": "code",
      "metadata": {
        "id": "9Ws35URBhAaI"
      },
      "source": [
        "df_test1 = pd.read_csv(\"/content/drive/MyDrive/Colab Notebooks/frequency_domain_features_test.csv\")\n",
        "df_test2 = pd.read_csv(\"/content/drive/MyDrive/Colab Notebooks/heart_rate_non_linear_features_test.csv\")\n",
        "df_test3 = pd.read_csv(\"/content/drive/MyDrive/Colab Notebooks/time_domain_features_test.csv\")\n",
        "\n",
        "\n",
        "df_test = pd.merge(df_test1, df_test2, on='uuid')\n",
        "df_test = pd.merge(df_test, df_test3, on='uuid')\n",
        "\n",
        "df_test = df_test.drop([\"datasetId\"], axis =1)\n",
        "_id = df_test[\"uuid\"]\n",
        "test = df_test.drop([\"uuid\"], axis = 1)\n",
        "\n",
        "test = pd.get_dummies(test, prefix=['condition'], prefix_sep='_', dummy_na=False, columns=['condition'])\n",
        "print(test.shape)\n",
        "X_scale = scaler.transform(test)   # scale the training data\n",
        "X_test = pca.transform(X_scale)\n",
        "\n",
        "HR = estimator.predict(X_test)\n",
        "HR = pd.DataFrame(data=HR.flatten(),columns=[\"HR\"])\n",
        "print(HR.head())\n",
        "\n",
        "output = pd.concat([_id, HR], axis = 1)\n",
        "print(output.head())\n",
        "\n",
        "output.to_csv(\"/content/drive/MyDrive/Colab Notebooks/sample_submission.csv\", index = False)\n",
        "dataframe = pd.read_csv(\"/content/drive/MyDrive/Colab Notebooks/sample_submission.csv\")"
      ],
      "execution_count": 223,
      "outputs": []
    }
  ]
}