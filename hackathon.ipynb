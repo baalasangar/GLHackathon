{
  "nbformat": 4,
  "nbformat_minor": 0,
  "metadata": {
    "kernelspec": {
      "display_name": "Python 3",
      "language": "python",
      "name": "python3"
    },
    "language_info": {
      "codemirror_mode": {
        "name": "ipython",
        "version": 3
      },
      "file_extension": ".py",
      "mimetype": "text/x-python",
      "name": "python",
      "nbconvert_exporter": "python",
      "pygments_lexer": "ipython3",
      "version": "3.8.3"
    },
    "colab": {
      "name": "hackathon.ipynb",
      "provenance": []
    }
  },
  "cells": [
    {
      "cell_type": "code",
      "metadata": {
        "id": "HMqunaaxhKnB",
        "outputId": "7fd002cc-c232-421b-ee94-77e0a143707e",
        "colab": {
          "base_uri": "https://localhost:8080/"
        }
      },
      "source": [
        "from google.colab import drive\n",
        "drive.mount('/content/drive')"
      ],
      "execution_count": 57,
      "outputs": [
        {
          "output_type": "stream",
          "text": [
            "Drive already mounted at /content/drive; to attempt to forcibly remount, call drive.mount(\"/content/drive\", force_remount=True).\n"
          ],
          "name": "stdout"
        }
      ]
    },
    {
      "cell_type": "code",
      "metadata": {
        "id": "5pJsU-lbhAZ1"
      },
      "source": [
        "import sys\n",
        "import warnings                                 # `dnd` mode\n",
        "warnings.filterwarnings('ignore')"
      ],
      "execution_count": 58,
      "outputs": []
    },
    {
      "cell_type": "code",
      "metadata": {
        "id": "e2DZBRmFhAZ8"
      },
      "source": [
        "# Import necessary libraries\n",
        "\n",
        "#from simple_colors import *                     # print text formatting \n",
        "from pprint import pprint                       # import petty print\n",
        "import numpy as np                              # Import Numpy library for vectors, matrix, algebra\n",
        "import pandas as pd                             # Import Pandas library for dataframe preparation and manipulation\n",
        "import statistics                               # Import Statistics library for basic statistics, if required\n",
        "import statsmodels.api as sm                    # Statsmodel is an essential module to conduct statistical tests\n",
        "from scipy import stats                         # Scipy builds on Numpy for mathematical computation\n",
        "from scipy.stats import zscore                  # Import Zscore function from Scipy Stats module\n",
        "from scipy.stats import variation               # Compute coefficient of variation\n",
        "\n",
        "import matplotlib.pyplot as plt                 # Import Pyplot from matplotlib\n",
        "import seaborn as sns                           # Import Seaborn library for data visualization\n",
        "sns.set(color_codes = True)                     # data visualization\n",
        "\n",
        "from sklearn.preprocessing import LabelEncoder   # Import library to encode categorical data\n",
        "from sklearn.preprocessing import StandardScaler # Standard Scaler will be used for scaling the data\n",
        "from sklearn.neighbors import LocalOutlierFactor # To detect outliers using Local Outlier Factor\n",
        "from sklearn import model_selection          \n",
        "from sklearn.model_selection import train_test_split # Importing train test split for splitting data from Scikit Learn\n",
        "from sklearn.model_selection import GridSearchCV     # Hyperparameter tuning through looping\n",
        "from sklearn.pipeline import Pipeline                # Assemble multiple steps for crossvalidation\n",
        "from sklearn import metrics                          # Importing Metrics for Accuracy Testing from Scikit Learn\n",
        "from sklearn.metrics import precision_score, recall_score, f1_score, roc_auc_score, confusion_matrix #import the accuracy classes from the library. \n",
        "\n",
        "from sklearn.preprocessing import StandardScaler\n",
        "from sklearn.decomposition import PCA\n",
        "from keras.models import Sequential\n",
        "from keras.layers import Dense, Dropout, GaussianNoise, Conv1D\n",
        "from keras.utils import np_utils\n",
        "from keras.wrappers.scikit_learn import KerasRegressor\n",
        "from sklearn.model_selection import cross_val_score\n",
        "from sklearn.model_selection import KFold"
      ],
      "execution_count": 59,
      "outputs": []
    },
    {
      "cell_type": "code",
      "metadata": {
        "id": "eZHUPIsJhAZ9"
      },
      "source": [
        "# Set display of tables\n",
        "\n",
        "pd.set_option(\"display.max_column\", None) # set display of all columns\n",
        "pd.options.display.max_colwidth = 150     # increase column width to display large text\n",
        "pd.set_option(\"display.max_rows\", None) # set display of all rows"
      ],
      "execution_count": 60,
      "outputs": []
    },
    {
      "cell_type": "code",
      "metadata": {
        "id": "6xJ97-aehAZ-"
      },
      "source": [
        "%matplotlib inline"
      ],
      "execution_count": 61,
      "outputs": []
    },
    {
      "cell_type": "code",
      "metadata": {
        "id": "cegvBtRrhAZ-"
      },
      "source": [
        "df1 = pd.read_csv(\"/content/drive/MyDrive/Colab Notebooks/frequency_domain_features_train.csv\")\n",
        "df2 = pd.read_csv(\"/content/drive/MyDrive/Colab Notebooks/heart_rate_non_linear_features_train.csv\")\n",
        "df3 = pd.read_csv(\"/content/drive/MyDrive/Colab Notebooks/time_domain_features_train.csv\")"
      ],
      "execution_count": 62,
      "outputs": []
    },
    {
      "cell_type": "code",
      "metadata": {
        "id": "m9VGvvQihAZ_"
      },
      "source": [
        "# df_test1 = pd.read_csv(\"/Users/kaushik/OneDrive/GL/Hackathon/Test Zip/frequency_domain_features_test.csv\")\n",
        "# df_test2 = pd.read_csv(\"/Users/kaushik/OneDrive/GL/Hackathon/Test Zip/heart_rate_non_linear_features_test.csv\")\n",
        "# df_test3 = pd.read_csv(\"/Users/kaushik/OneDrive/GL/Hackathon/Test Zip/time_domain_features_test.csv\")"
      ],
      "execution_count": 63,
      "outputs": []
    },
    {
      "cell_type": "code",
      "metadata": {
        "id": "74byxxhshAZ_"
      },
      "source": [
        "df = pd.merge(df1, df2, on='uuid')"
      ],
      "execution_count": 64,
      "outputs": []
    },
    {
      "cell_type": "code",
      "metadata": {
        "id": "gspDXmh0hAZ_"
      },
      "source": [
        "df = pd.merge(df, df3, on='uuid')"
      ],
      "execution_count": 65,
      "outputs": []
    },
    {
      "cell_type": "code",
      "metadata": {
        "id": "9kRImd7RhAaA",
        "outputId": "6d7fa750-69a3-45bb-afb1-16b4feea9cf8",
        "colab": {
          "base_uri": "https://localhost:8080/"
        }
      },
      "source": [
        "df.shape"
      ],
      "execution_count": 66,
      "outputs": [
        {
          "output_type": "execute_result",
          "data": {
            "text/plain": [
              "(369289, 37)"
            ]
          },
          "metadata": {
            "tags": []
          },
          "execution_count": 66
        }
      ]
    },
    {
      "cell_type": "code",
      "metadata": {
        "id": "ukDRL4lrhAaB",
        "outputId": "7e414cc7-90f5-426e-d43e-0d78c7c16f49",
        "colab": {
          "base_uri": "https://localhost:8080/"
        }
      },
      "source": [
        "df.info()"
      ],
      "execution_count": 67,
      "outputs": [
        {
          "output_type": "stream",
          "text": [
            "<class 'pandas.core.frame.DataFrame'>\n",
            "Int64Index: 369289 entries, 0 to 369288\n",
            "Data columns (total 37 columns):\n",
            " #   Column             Non-Null Count   Dtype  \n",
            "---  ------             --------------   -----  \n",
            " 0   uuid               369289 non-null  object \n",
            " 1   VLF                369289 non-null  float64\n",
            " 2   VLF_PCT            369289 non-null  float64\n",
            " 3   LF                 369289 non-null  float64\n",
            " 4   LF_PCT             369289 non-null  float64\n",
            " 5   LF_NU              369289 non-null  float64\n",
            " 6   HF                 369289 non-null  float64\n",
            " 7   HF_PCT             369289 non-null  float64\n",
            " 8   HF_NU              369289 non-null  float64\n",
            " 9   TP                 369289 non-null  float64\n",
            " 10  LF_HF              369289 non-null  float64\n",
            " 11  HF_LF              369289 non-null  float64\n",
            " 12  SD1                369289 non-null  float64\n",
            " 13  SD2                369289 non-null  float64\n",
            " 14  sampen             369289 non-null  float64\n",
            " 15  higuci             369289 non-null  float64\n",
            " 16  datasetId          369289 non-null  int64  \n",
            " 17  condition          369289 non-null  object \n",
            " 18  MEAN_RR            369289 non-null  float64\n",
            " 19  MEDIAN_RR          369289 non-null  float64\n",
            " 20  SDRR               369289 non-null  float64\n",
            " 21  RMSSD              369289 non-null  float64\n",
            " 22  SDSD               369289 non-null  float64\n",
            " 23  SDRR_RMSSD         369289 non-null  float64\n",
            " 24  HR                 369289 non-null  float64\n",
            " 25  pNN25              369289 non-null  float64\n",
            " 26  pNN50              369289 non-null  float64\n",
            " 27  KURT               369289 non-null  float64\n",
            " 28  SKEW               369289 non-null  float64\n",
            " 29  MEAN_REL_RR        369289 non-null  float64\n",
            " 30  MEDIAN_REL_RR      369289 non-null  float64\n",
            " 31  SDRR_REL_RR        369289 non-null  float64\n",
            " 32  RMSSD_REL_RR       369289 non-null  float64\n",
            " 33  SDSD_REL_RR        369289 non-null  float64\n",
            " 34  SDRR_RMSSD_REL_RR  369289 non-null  float64\n",
            " 35  KURT_REL_RR        369289 non-null  float64\n",
            " 36  SKEW_REL_RR        369289 non-null  float64\n",
            "dtypes: float64(34), int64(1), object(2)\n",
            "memory usage: 107.1+ MB\n"
          ],
          "name": "stdout"
        }
      ]
    },
    {
      "cell_type": "code",
      "metadata": {
        "id": "0P7EZt-AhAaB"
      },
      "source": [
        "df = df.drop([\"uuid\", \"datasetId\"], axis =1)"
      ],
      "execution_count": 68,
      "outputs": []
    },
    {
      "cell_type": "code",
      "metadata": {
        "id": "JXZBSj8MhAaB"
      },
      "source": [
        "df = pd.get_dummies(df, prefix=['condition'], prefix_sep='_', dummy_na=False, columns=['condition'])"
      ],
      "execution_count": 69,
      "outputs": []
    },
    {
      "cell_type": "code",
      "metadata": {
        "id": "dZiuMv95hAaC"
      },
      "source": [
        "indep_var = df.drop(['HR'], axis = 1)"
      ],
      "execution_count": 70,
      "outputs": []
    },
    {
      "cell_type": "code",
      "metadata": {
        "id": "BAIW4KamhAaC"
      },
      "source": [
        "col = indep_var.columns.to_list()"
      ],
      "execution_count": 71,
      "outputs": []
    },
    {
      "cell_type": "code",
      "metadata": {
        "id": "SGn_x2DAhAaC"
      },
      "source": [
        "# Setting up the data. \n",
        "# K is fixed by passing the n_neighbors parameter with integer. \n",
        "# I have used the default Euclidean distance.\n",
        "lof = LocalOutlierFactor(n_neighbors = 15)\n",
        "#Training the model taking only independent variables\n",
        "df['lof'] = lof.fit_predict(df[col])\n",
        "#Getting the negative LOF score\n",
        "df['negative_outlier_factor'] = lof.negative_outlier_factor_"
      ],
      "execution_count": 72,
      "outputs": []
    },
    {
      "cell_type": "code",
      "metadata": {
        "id": "ieG7NJOlhAaD",
        "outputId": "68375bec-4f96-4ff6-9253-d595a21146b5",
        "colab": {
          "base_uri": "https://localhost:8080/"
        }
      },
      "source": [
        "# Detecting the outliers\n",
        "outliers = df[df['lof'] == -1]\n",
        "# Finding the number of outlier records\n",
        "n_outliers = outliers.shape[0]\n",
        "n_records = df.shape[0]\n",
        "percent_outliers = n_outliers/n_records*100\n",
        "print(round(percent_outliers, 2))"
      ],
      "execution_count": 73,
      "outputs": [
        {
          "output_type": "stream",
          "text": [
            "1.59\n"
          ],
          "name": "stdout"
        }
      ]
    },
    {
      "cell_type": "code",
      "metadata": {
        "id": "0jfYXvU4hAaD"
      },
      "source": [
        "# Droping the outlier records to create a new dataframe df1\n",
        "df = df.loc[df['lof'] >= 0]"
      ],
      "execution_count": 74,
      "outputs": []
    },
    {
      "cell_type": "code",
      "metadata": {
        "id": "Xb5sBl9NhAaD",
        "outputId": "ffdc6e42-6deb-4673-f531-d1a4746bb0f3",
        "colab": {
          "base_uri": "https://localhost:8080/"
        }
      },
      "source": [
        "df.info()"
      ],
      "execution_count": 75,
      "outputs": [
        {
          "output_type": "stream",
          "text": [
            "<class 'pandas.core.frame.DataFrame'>\n",
            "Int64Index: 363434 entries, 0 to 369288\n",
            "Data columns (total 39 columns):\n",
            " #   Column                   Non-Null Count   Dtype  \n",
            "---  ------                   --------------   -----  \n",
            " 0   VLF                      363434 non-null  float64\n",
            " 1   VLF_PCT                  363434 non-null  float64\n",
            " 2   LF                       363434 non-null  float64\n",
            " 3   LF_PCT                   363434 non-null  float64\n",
            " 4   LF_NU                    363434 non-null  float64\n",
            " 5   HF                       363434 non-null  float64\n",
            " 6   HF_PCT                   363434 non-null  float64\n",
            " 7   HF_NU                    363434 non-null  float64\n",
            " 8   TP                       363434 non-null  float64\n",
            " 9   LF_HF                    363434 non-null  float64\n",
            " 10  HF_LF                    363434 non-null  float64\n",
            " 11  SD1                      363434 non-null  float64\n",
            " 12  SD2                      363434 non-null  float64\n",
            " 13  sampen                   363434 non-null  float64\n",
            " 14  higuci                   363434 non-null  float64\n",
            " 15  MEAN_RR                  363434 non-null  float64\n",
            " 16  MEDIAN_RR                363434 non-null  float64\n",
            " 17  SDRR                     363434 non-null  float64\n",
            " 18  RMSSD                    363434 non-null  float64\n",
            " 19  SDSD                     363434 non-null  float64\n",
            " 20  SDRR_RMSSD               363434 non-null  float64\n",
            " 21  HR                       363434 non-null  float64\n",
            " 22  pNN25                    363434 non-null  float64\n",
            " 23  pNN50                    363434 non-null  float64\n",
            " 24  KURT                     363434 non-null  float64\n",
            " 25  SKEW                     363434 non-null  float64\n",
            " 26  MEAN_REL_RR              363434 non-null  float64\n",
            " 27  MEDIAN_REL_RR            363434 non-null  float64\n",
            " 28  SDRR_REL_RR              363434 non-null  float64\n",
            " 29  RMSSD_REL_RR             363434 non-null  float64\n",
            " 30  SDSD_REL_RR              363434 non-null  float64\n",
            " 31  SDRR_RMSSD_REL_RR        363434 non-null  float64\n",
            " 32  KURT_REL_RR              363434 non-null  float64\n",
            " 33  SKEW_REL_RR              363434 non-null  float64\n",
            " 34  condition_interruption   363434 non-null  uint8  \n",
            " 35  condition_no stress      363434 non-null  uint8  \n",
            " 36  condition_time pressure  363434 non-null  uint8  \n",
            " 37  lof                      363434 non-null  int64  \n",
            " 38  negative_outlier_factor  363434 non-null  float64\n",
            "dtypes: float64(35), int64(1), uint8(3)\n",
            "memory usage: 103.6 MB\n"
          ],
          "name": "stdout"
        }
      ]
    },
    {
      "cell_type": "code",
      "metadata": {
        "id": "c5ZvxNzihAaD"
      },
      "source": [
        "df = df.drop([\"lof\", \"negative_outlier_factor\"], axis = 1)"
      ],
      "execution_count": 76,
      "outputs": []
    },
    {
      "cell_type": "code",
      "metadata": {
        "id": "euDuTi6vhAaE",
        "outputId": "1f3b332f-7956-4be5-cb49-532f1276de9d",
        "colab": {
          "base_uri": "https://localhost:8080/"
        }
      },
      "source": [
        "df.info()"
      ],
      "execution_count": 77,
      "outputs": [
        {
          "output_type": "stream",
          "text": [
            "<class 'pandas.core.frame.DataFrame'>\n",
            "Int64Index: 363434 entries, 0 to 369288\n",
            "Data columns (total 37 columns):\n",
            " #   Column                   Non-Null Count   Dtype  \n",
            "---  ------                   --------------   -----  \n",
            " 0   VLF                      363434 non-null  float64\n",
            " 1   VLF_PCT                  363434 non-null  float64\n",
            " 2   LF                       363434 non-null  float64\n",
            " 3   LF_PCT                   363434 non-null  float64\n",
            " 4   LF_NU                    363434 non-null  float64\n",
            " 5   HF                       363434 non-null  float64\n",
            " 6   HF_PCT                   363434 non-null  float64\n",
            " 7   HF_NU                    363434 non-null  float64\n",
            " 8   TP                       363434 non-null  float64\n",
            " 9   LF_HF                    363434 non-null  float64\n",
            " 10  HF_LF                    363434 non-null  float64\n",
            " 11  SD1                      363434 non-null  float64\n",
            " 12  SD2                      363434 non-null  float64\n",
            " 13  sampen                   363434 non-null  float64\n",
            " 14  higuci                   363434 non-null  float64\n",
            " 15  MEAN_RR                  363434 non-null  float64\n",
            " 16  MEDIAN_RR                363434 non-null  float64\n",
            " 17  SDRR                     363434 non-null  float64\n",
            " 18  RMSSD                    363434 non-null  float64\n",
            " 19  SDSD                     363434 non-null  float64\n",
            " 20  SDRR_RMSSD               363434 non-null  float64\n",
            " 21  HR                       363434 non-null  float64\n",
            " 22  pNN25                    363434 non-null  float64\n",
            " 23  pNN50                    363434 non-null  float64\n",
            " 24  KURT                     363434 non-null  float64\n",
            " 25  SKEW                     363434 non-null  float64\n",
            " 26  MEAN_REL_RR              363434 non-null  float64\n",
            " 27  MEDIAN_REL_RR            363434 non-null  float64\n",
            " 28  SDRR_REL_RR              363434 non-null  float64\n",
            " 29  RMSSD_REL_RR             363434 non-null  float64\n",
            " 30  SDSD_REL_RR              363434 non-null  float64\n",
            " 31  SDRR_RMSSD_REL_RR        363434 non-null  float64\n",
            " 32  KURT_REL_RR              363434 non-null  float64\n",
            " 33  SKEW_REL_RR              363434 non-null  float64\n",
            " 34  condition_interruption   363434 non-null  uint8  \n",
            " 35  condition_no stress      363434 non-null  uint8  \n",
            " 36  condition_time pressure  363434 non-null  uint8  \n",
            "dtypes: float64(34), uint8(3)\n",
            "memory usage: 98.1 MB\n"
          ],
          "name": "stdout"
        }
      ]
    },
    {
      "cell_type": "code",
      "metadata": {
        "id": "4UVcKlkbhAaE"
      },
      "source": [
        "# Target and feature separation in original dataframe\n",
        "X = df.drop(labels= \"HR\" , axis = 1) \n",
        "y = df[\"HR\"]"
      ],
      "execution_count": 78,
      "outputs": []
    },
    {
      "cell_type": "code",
      "metadata": {
        "id": "HhX4-v2HhAaF"
      },
      "source": [
        "scaler = StandardScaler()                 # defining scaler\n",
        "X = scaler.fit_transform(X)   # scale the training data"
      ],
      "execution_count": 79,
      "outputs": []
    },
    {
      "cell_type": "code",
      "metadata": {
        "id": "LQ69nAeKhAaF",
        "outputId": "5ea656c6-5d06-4a45-da6e-34b2a2d7ecd0",
        "colab": {
          "base_uri": "https://localhost:8080/"
        }
      },
      "source": [
        "pca = PCA(n_components=35)\n",
        "pca.fit(X)"
      ],
      "execution_count": 80,
      "outputs": [
        {
          "output_type": "execute_result",
          "data": {
            "text/plain": [
              "PCA(copy=True, iterated_power='auto', n_components=35, random_state=None,\n",
              "    svd_solver='auto', tol=0.0, whiten=False)"
            ]
          },
          "metadata": {
            "tags": []
          },
          "execution_count": 80
        }
      ]
    },
    {
      "cell_type": "code",
      "metadata": {
        "id": "qZIMG5nxhAaF",
        "outputId": "5239afab-f312-4ff3-a900-8c15e7d919d4",
        "colab": {
          "base_uri": "https://localhost:8080/",
          "height": 302
        }
      },
      "source": [
        "plt.plot(np.cumsum(pca.explained_variance_ratio_))\n",
        "plt.xlabel('Number of components')\n",
        "plt.ylabel('Cumulative explained variance')"
      ],
      "execution_count": 81,
      "outputs": [
        {
          "output_type": "execute_result",
          "data": {
            "text/plain": [
              "Text(0, 0.5, 'Cumulative explained variance')"
            ]
          },
          "metadata": {
            "tags": []
          },
          "execution_count": 81
        },
        {
          "output_type": "display_data",
          "data": {
            "image/png": "[encoded data removed]",
            "text/plain": [
              "<Figure size 432x288 with 1 Axes>"
            ]
          },
          "metadata": {
            "tags": [],
            "needs_background": "light"
          }
        }
      ]
    },
    {
      "cell_type": "code",
      "metadata": {
        "id": "JU78meF7hAaG"
      },
      "source": [
        "NCOMPONENTS = 16\n",
        "pca = PCA(n_components=NCOMPONENTS)\n",
        "X_pca_train = pca.fit_transform(X)"
      ],
      "execution_count": 82,
      "outputs": []
    },
    {
      "cell_type": "code",
      "metadata": {
        "id": "WPPrY-UphAaG",
        "outputId": "30bec2d9-3e67-49b4-bb08-9f8389723c92",
        "colab": {
          "base_uri": "https://localhost:8080/"
        }
      },
      "source": [
        "pca_std = np.std(X_pca_train)\r\n",
        "pca_std"
      ],
      "execution_count": 83,
      "outputs": [
        {
          "output_type": "execute_result",
          "data": {
            "text/plain": [
              "1.4919362673259933"
            ]
          },
          "metadata": {
            "tags": []
          },
          "execution_count": 83
        }
      ]
    },
    {
      "cell_type": "code",
      "metadata": {
        "id": "6jHlI8TPhAaG"
      },
      "source": [
        "def mlp_model():\n",
        "    model = Sequential()\n",
        "    model.add(Dense(36, input_dim = NCOMPONENTS, activation = \"relu\"))\n",
        "    model.add(Dense(16, activation = \"relu\"))\n",
        "    model.add(Dense(4, activation = \"relu\"))\n",
        "    model.add(Dense(1, kernel_initializer='normal'))\n",
        "    model.add(GaussianNoise(pca_std))\n",
        "    model.compile(loss=\"mean_squared_error\", optimizer='adam')\n",
        "    return model"
      ],
      "execution_count": 84,
      "outputs": []
    },
    {
      "cell_type": "code",
      "metadata": {
        "id": "6ZxHSY1zhAaH"
      },
      "source": [
        "estimator = KerasRegressor(build_fn=mlp_model, epochs=30, batch_size=256, verbose=True)"
      ],
      "execution_count": 85,
      "outputs": []
    },
    {
      "cell_type": "code",
      "metadata": {
        "id": "SYzoKGVJhAaH",
        "outputId": "3096d70c-ad2e-4589-c4b2-aa9a61ba9e44",
        "colab": {
          "base_uri": "https://localhost:8080/"
        }
      },
      "source": [
        "kfold = KFold(n_splits=5, random_state=42)\n",
        "results = cross_val_score(estimator, X_pca_train, y, cv=kfold)\n",
        "print(\"Results: %.3f (%.3f) MSE\" % (results.mean(), results.std()))"
      ],
      "execution_count": 86,
      "outputs": [
        {
          "output_type": "stream",
          "text": [
            "Epoch 1/30\n",
            "1136/1136 [==============================] - 2s 1ms/step - loss: 2469.8481\n",
            "Epoch 2/30\n",
            "1136/1136 [==============================] - 1s 1ms/step - loss: 16.5598\n",
            "Epoch 3/30\n",
            "1136/1136 [==============================] - 1s 1ms/step - loss: 7.0029\n",
            "Epoch 4/30\n",
            "1136/1136 [==============================] - 1s 1ms/step - loss: 4.3972\n",
            "Epoch 5/30\n",
            "1136/1136 [==============================] - 1s 1ms/step - loss: 3.4879\n",
            "Epoch 6/30\n",
            "1136/1136 [==============================] - 1s 1ms/step - loss: 3.0522\n",
            "Epoch 7/30\n",
            "1136/1136 [==============================] - 1s 1ms/step - loss: 2.8641\n",
            "Epoch 8/30\n",
            "1136/1136 [==============================] - 2s 1ms/step - loss: 2.7514\n",
            "Epoch 9/30\n",
            "1136/1136 [==============================] - 1s 1ms/step - loss: 2.6883\n",
            "Epoch 10/30\n",
            "1136/1136 [==============================] - 1s 1ms/step - loss: 2.6588\n",
            "Epoch 11/30\n",
            "1136/1136 [==============================] - 2s 1ms/step - loss: 2.6296\n",
            "Epoch 12/30\n",
            "1136/1136 [==============================] - 1s 1ms/step - loss: 2.5956\n",
            "Epoch 13/30\n",
            "1136/1136 [==============================] - 1s 1ms/step - loss: 2.5838\n",
            "Epoch 14/30\n",
            "1136/1136 [==============================] - 2s 1ms/step - loss: 2.5524\n",
            "Epoch 15/30\n",
            "1136/1136 [==============================] - 2s 1ms/step - loss: 2.5524\n",
            "Epoch 16/30\n",
            "1136/1136 [==============================] - 1s 1ms/step - loss: 2.5481\n",
            "Epoch 17/30\n",
            "1136/1136 [==============================] - 1s 1ms/step - loss: 2.5259\n",
            "Epoch 18/30\n",
            "1136/1136 [==============================] - 1s 1ms/step - loss: 2.5287\n",
            "Epoch 19/30\n",
            "1136/1136 [==============================] - 1s 1ms/step - loss: 2.5135\n",
            "Epoch 20/30\n",
            "1136/1136 [==============================] - 1s 1ms/step - loss: 2.5063\n",
            "Epoch 21/30\n",
            "1136/1136 [==============================] - 1s 1ms/step - loss: 2.4867\n",
            "Epoch 22/30\n",
            "1136/1136 [==============================] - 1s 1ms/step - loss: 2.4749\n",
            "Epoch 23/30\n",
            "1136/1136 [==============================] - 2s 1ms/step - loss: 2.4939\n",
            "Epoch 24/30\n",
            "1136/1136 [==============================] - 2s 1ms/step - loss: 2.4663\n",
            "Epoch 25/30\n",
            "1136/1136 [==============================] - 2s 1ms/step - loss: 2.4656\n",
            "Epoch 26/30\n",
            "1136/1136 [==============================] - 2s 1ms/step - loss: 2.4763\n",
            "Epoch 27/30\n",
            "1136/1136 [==============================] - 2s 1ms/step - loss: 2.4708\n",
            "Epoch 28/30\n",
            "1136/1136 [==============================] - 2s 1ms/step - loss: 2.4676\n",
            "Epoch 29/30\n",
            "1136/1136 [==============================] - 2s 1ms/step - loss: 2.4687\n",
            "Epoch 30/30\n",
            "1136/1136 [==============================] - 2s 1ms/step - loss: 2.4497\n",
            "284/284 [==============================] - 0s 822us/step - loss: 0.2347\n",
            "Epoch 1/30\n",
            "1136/1136 [==============================] - 2s 1ms/step - loss: 2110.0119\n",
            "Epoch 2/30\n",
            "1136/1136 [==============================] - 1s 1ms/step - loss: 18.9540\n",
            "Epoch 3/30\n",
            "1136/1136 [==============================] - 2s 1ms/step - loss: 7.1839\n",
            "Epoch 4/30\n",
            "1136/1136 [==============================] - 2s 1ms/step - loss: 4.2915\n",
            "Epoch 5/30\n",
            "1136/1136 [==============================] - 2s 1ms/step - loss: 3.3319\n",
            "Epoch 6/30\n",
            "1136/1136 [==============================] - 2s 1ms/step - loss: 2.9496\n",
            "Epoch 7/30\n",
            "1136/1136 [==============================] - 1s 1ms/step - loss: 2.8093\n",
            "Epoch 8/30\n",
            "1136/1136 [==============================] - 1s 1ms/step - loss: 2.7145\n",
            "Epoch 9/30\n",
            "1136/1136 [==============================] - 2s 1ms/step - loss: 2.6662\n",
            "Epoch 10/30\n",
            "1136/1136 [==============================] - 1s 1ms/step - loss: 2.6002\n",
            "Epoch 11/30\n",
            "1136/1136 [==============================] - 2s 1ms/step - loss: 2.5851\n",
            "Epoch 12/30\n",
            "1136/1136 [==============================] - 1s 1ms/step - loss: 2.5707\n",
            "Epoch 13/30\n",
            "1136/1136 [==============================] - 1s 1ms/step - loss: 2.5525\n",
            "Epoch 14/30\n",
            "1136/1136 [==============================] - 1s 1ms/step - loss: 2.5348\n",
            "Epoch 15/30\n",
            "1136/1136 [==============================] - 1s 1ms/step - loss: 2.5318\n",
            "Epoch 16/30\n",
            "1136/1136 [==============================] - 1s 1ms/step - loss: 2.5253\n",
            "Epoch 17/30\n",
            "1136/1136 [==============================] - 2s 1ms/step - loss: 2.5061\n",
            "Epoch 18/30\n",
            "1136/1136 [==============================] - 2s 1ms/step - loss: 2.5058\n",
            "Epoch 19/30\n",
            "1136/1136 [==============================] - 1s 1ms/step - loss: 2.4896\n",
            "Epoch 20/30\n",
            "1136/1136 [==============================] - 2s 1ms/step - loss: 2.4934\n",
            "Epoch 21/30\n",
            "1136/1136 [==============================] - 1s 1ms/step - loss: 2.4837\n",
            "Epoch 22/30\n",
            "1136/1136 [==============================] - 2s 1ms/step - loss: 2.4764\n",
            "Epoch 23/30\n",
            "1136/1136 [==============================] - 1s 1ms/step - loss: 2.4805\n",
            "Epoch 24/30\n",
            "1136/1136 [==============================] - 2s 1ms/step - loss: 2.4557\n",
            "Epoch 25/30\n",
            "1136/1136 [==============================] - 2s 1ms/step - loss: 2.4728\n",
            "Epoch 26/30\n",
            "1136/1136 [==============================] - 1s 1ms/step - loss: 2.4812\n",
            "Epoch 27/30\n",
            "1136/1136 [==============================] - 2s 1ms/step - loss: 2.4512\n",
            "Epoch 28/30\n",
            "1136/1136 [==============================] - 2s 1ms/step - loss: 2.4613\n",
            "Epoch 29/30\n",
            "1136/1136 [==============================] - 2s 1ms/step - loss: 2.4552\n",
            "Epoch 30/30\n",
            "1136/1136 [==============================] - 2s 1ms/step - loss: 2.4432\n",
            "284/284 [==============================] - 0s 911us/step - loss: 0.2282\n",
            "Epoch 1/30\n",
            "1136/1136 [==============================] - 2s 1ms/step - loss: 2212.8970\n",
            "Epoch 2/30\n",
            "1136/1136 [==============================] - 2s 1ms/step - loss: 16.2286\n",
            "Epoch 3/30\n",
            "1136/1136 [==============================] - 2s 1ms/step - loss: 6.0954\n",
            "Epoch 4/30\n",
            "1136/1136 [==============================] - 2s 1ms/step - loss: 3.9120\n",
            "Epoch 5/30\n",
            "1136/1136 [==============================] - 2s 1ms/step - loss: 3.2211\n",
            "Epoch 6/30\n",
            "1136/1136 [==============================] - 2s 1ms/step - loss: 2.8823\n",
            "Epoch 7/30\n",
            "1136/1136 [==============================] - 2s 1ms/step - loss: 2.7681\n",
            "Epoch 8/30\n",
            "1136/1136 [==============================] - 2s 1ms/step - loss: 2.6802\n",
            "Epoch 9/30\n",
            "1136/1136 [==============================] - 1s 1ms/step - loss: 2.6264\n",
            "Epoch 10/30\n",
            "1136/1136 [==============================] - 2s 1ms/step - loss: 2.5908\n",
            "Epoch 11/30\n",
            "1136/1136 [==============================] - 2s 1ms/step - loss: 2.5518\n",
            "Epoch 12/30\n",
            "1136/1136 [==============================] - 1s 1ms/step - loss: 2.5417\n",
            "Epoch 13/30\n",
            "1136/1136 [==============================] - 2s 1ms/step - loss: 2.5453\n",
            "Epoch 14/30\n",
            "1136/1136 [==============================] - 2s 1ms/step - loss: 2.4975\n",
            "Epoch 15/30\n",
            "1136/1136 [==============================] - 2s 1ms/step - loss: 2.5109\n",
            "Epoch 16/30\n",
            "1136/1136 [==============================] - 2s 1ms/step - loss: 2.5019\n",
            "Epoch 17/30\n",
            "1136/1136 [==============================] - 2s 1ms/step - loss: 2.4947\n",
            "Epoch 18/30\n",
            "1136/1136 [==============================] - 2s 1ms/step - loss: 2.4857\n",
            "Epoch 19/30\n",
            "1136/1136 [==============================] - 2s 1ms/step - loss: 2.4894\n",
            "Epoch 20/30\n",
            "1136/1136 [==============================] - 2s 1ms/step - loss: 2.4831\n",
            "Epoch 21/30\n",
            "1136/1136 [==============================] - 2s 1ms/step - loss: 2.5010\n",
            "Epoch 22/30\n",
            "1136/1136 [==============================] - 2s 1ms/step - loss: 2.4559\n",
            "Epoch 23/30\n",
            "1136/1136 [==============================] - 2s 1ms/step - loss: 2.4826\n",
            "Epoch 24/30\n",
            "1136/1136 [==============================] - 2s 1ms/step - loss: 2.4781\n",
            "Epoch 25/30\n",
            "1136/1136 [==============================] - 2s 1ms/step - loss: 2.4633\n",
            "Epoch 26/30\n",
            "1136/1136 [==============================] - 2s 1ms/step - loss: 2.4535\n",
            "Epoch 27/30\n",
            "1136/1136 [==============================] - 2s 1ms/step - loss: 2.4686\n",
            "Epoch 28/30\n",
            "1136/1136 [==============================] - 2s 1ms/step - loss: 2.4576\n",
            "Epoch 29/30\n",
            "1136/1136 [==============================] - 2s 1ms/step - loss: 2.4686\n",
            "Epoch 30/30\n",
            "1136/1136 [==============================] - 2s 1ms/step - loss: 2.4517\n",
            "284/284 [==============================] - 0s 858us/step - loss: 0.2264\n",
            "Epoch 1/30\n",
            "1136/1136 [==============================] - 2s 1ms/step - loss: 2278.1632\n",
            "Epoch 2/30\n",
            "1136/1136 [==============================] - 2s 1ms/step - loss: 18.3532\n",
            "Epoch 3/30\n",
            "1136/1136 [==============================] - 2s 1ms/step - loss: 6.2447\n",
            "Epoch 4/30\n",
            "1136/1136 [==============================] - 2s 1ms/step - loss: 3.6598\n",
            "Epoch 5/30\n",
            "1136/1136 [==============================] - 2s 1ms/step - loss: 3.0480\n",
            "Epoch 6/30\n",
            "1136/1136 [==============================] - 1s 1ms/step - loss: 2.8038\n",
            "Epoch 7/30\n",
            "1136/1136 [==============================] - 2s 1ms/step - loss: 2.6798\n",
            "Epoch 8/30\n",
            "1136/1136 [==============================] - 2s 1ms/step - loss: 2.6235\n",
            "Epoch 9/30\n",
            "1136/1136 [==============================] - 2s 1ms/step - loss: 2.5858\n",
            "Epoch 10/30\n",
            "1136/1136 [==============================] - 2s 1ms/step - loss: 2.5708\n",
            "Epoch 11/30\n",
            "1136/1136 [==============================] - 2s 1ms/step - loss: 2.5293\n",
            "Epoch 12/30\n",
            "1136/1136 [==============================] - 2s 1ms/step - loss: 2.5079\n",
            "Epoch 13/30\n",
            "1136/1136 [==============================] - 2s 1ms/step - loss: 2.4935\n",
            "Epoch 14/30\n",
            "1136/1136 [==============================] - 2s 1ms/step - loss: 2.5004\n",
            "Epoch 15/30\n",
            "1136/1136 [==============================] - 2s 1ms/step - loss: 2.4807\n",
            "Epoch 16/30\n",
            "1136/1136 [==============================] - 2s 1ms/step - loss: 2.4720\n",
            "Epoch 17/30\n",
            "1136/1136 [==============================] - 2s 1ms/step - loss: 2.4705\n",
            "Epoch 18/30\n",
            "1136/1136 [==============================] - 2s 1ms/step - loss: 2.4751\n",
            "Epoch 19/30\n",
            "1136/1136 [==============================] - 2s 1ms/step - loss: 2.4641\n",
            "Epoch 20/30\n",
            "1136/1136 [==============================] - 2s 1ms/step - loss: 2.4465\n",
            "Epoch 21/30\n",
            "1136/1136 [==============================] - 2s 1ms/step - loss: 2.4481\n",
            "Epoch 22/30\n",
            "1136/1136 [==============================] - 2s 1ms/step - loss: 2.4527\n",
            "Epoch 23/30\n",
            "1136/1136 [==============================] - 2s 1ms/step - loss: 2.4369\n",
            "Epoch 24/30\n",
            "1136/1136 [==============================] - 2s 1ms/step - loss: 2.4524\n",
            "Epoch 25/30\n",
            "1136/1136 [==============================] - 2s 1ms/step - loss: 2.4451\n",
            "Epoch 26/30\n",
            "1136/1136 [==============================] - 2s 1ms/step - loss: 2.4348\n",
            "Epoch 27/30\n",
            "1136/1136 [==============================] - 2s 1ms/step - loss: 2.4507\n",
            "Epoch 28/30\n",
            "1136/1136 [==============================] - 2s 1ms/step - loss: 2.4325\n",
            "Epoch 29/30\n",
            "1136/1136 [==============================] - 2s 1ms/step - loss: 2.4326\n",
            "Epoch 30/30\n",
            "1136/1136 [==============================] - 2s 1ms/step - loss: 2.4339\n",
            "284/284 [==============================] - 0s 980us/step - loss: 0.1906\n",
            "Epoch 1/30\n",
            "1136/1136 [==============================] - 2s 1ms/step - loss: 2338.4881\n",
            "Epoch 2/30\n",
            "1136/1136 [==============================] - 2s 1ms/step - loss: 14.0763\n",
            "Epoch 3/30\n",
            "1136/1136 [==============================] - 2s 1ms/step - loss: 5.6034\n",
            "Epoch 4/30\n",
            "1136/1136 [==============================] - 2s 1ms/step - loss: 3.7590\n",
            "Epoch 5/30\n",
            "1136/1136 [==============================] - 2s 1ms/step - loss: 3.1478\n",
            "Epoch 6/30\n",
            "1136/1136 [==============================] - 2s 1ms/step - loss: 2.8811\n",
            "Epoch 7/30\n",
            "1136/1136 [==============================] - 2s 1ms/step - loss: 2.7683\n",
            "Epoch 8/30\n",
            "1136/1136 [==============================] - 2s 1ms/step - loss: 2.6862\n",
            "Epoch 9/30\n",
            "1136/1136 [==============================] - 2s 1ms/step - loss: 2.6199\n",
            "Epoch 10/30\n",
            "1136/1136 [==============================] - 2s 1ms/step - loss: 2.6160\n",
            "Epoch 11/30\n",
            "1136/1136 [==============================] - 2s 1ms/step - loss: 2.5693\n",
            "Epoch 12/30\n",
            "1136/1136 [==============================] - 2s 1ms/step - loss: 2.5497\n",
            "Epoch 13/30\n",
            "1136/1136 [==============================] - 2s 1ms/step - loss: 2.5269\n",
            "Epoch 14/30\n",
            "1136/1136 [==============================] - 2s 1ms/step - loss: 2.5118\n",
            "Epoch 15/30\n",
            "1136/1136 [==============================] - 2s 1ms/step - loss: 2.5187\n",
            "Epoch 16/30\n",
            "1136/1136 [==============================] - 2s 1ms/step - loss: 2.5086\n",
            "Epoch 17/30\n",
            "1136/1136 [==============================] - 2s 1ms/step - loss: 2.4852\n",
            "Epoch 18/30\n",
            "1136/1136 [==============================] - 2s 1ms/step - loss: 2.4880\n",
            "Epoch 19/30\n",
            "1136/1136 [==============================] - 2s 1ms/step - loss: 2.4740\n",
            "Epoch 20/30\n",
            "1136/1136 [==============================] - 2s 1ms/step - loss: 2.4665\n",
            "Epoch 21/30\n",
            "1136/1136 [==============================] - 2s 1ms/step - loss: 2.4776\n",
            "Epoch 22/30\n",
            "1136/1136 [==============================] - 2s 1ms/step - loss: 2.4520\n",
            "Epoch 23/30\n",
            "1136/1136 [==============================] - 2s 1ms/step - loss: 2.4702\n",
            "Epoch 24/30\n",
            "1136/1136 [==============================] - 2s 1ms/step - loss: 2.4628\n",
            "Epoch 25/30\n",
            "1136/1136 [==============================] - 2s 1ms/step - loss: 2.4604\n",
            "Epoch 26/30\n",
            "1136/1136 [==============================] - 2s 1ms/step - loss: 2.4564\n",
            "Epoch 27/30\n",
            "1136/1136 [==============================] - 2s 1ms/step - loss: 2.4445\n",
            "Epoch 28/30\n",
            "1136/1136 [==============================] - 2s 1ms/step - loss: 2.4594\n",
            "Epoch 29/30\n",
            "1136/1136 [==============================] - 2s 1ms/step - loss: 2.4592\n",
            "Epoch 30/30\n",
            "1136/1136 [==============================] - 2s 1ms/step - loss: 2.4710\n",
            "284/284 [==============================] - 0s 860us/step - loss: 0.3351\n",
            "Results: -0.243 (0.049) MSE\n"
          ],
          "name": "stdout"
        }
      ]
    },
    {
      "cell_type": "code",
      "metadata": {
        "id": "X8U4vYC4hAaH",
        "outputId": "173d9848-1cdb-45ad-e032-c97f2253d77f",
        "colab": {
          "base_uri": "https://localhost:8080/"
        }
      },
      "source": [
        "estimator.fit(X_pca_train, y)\n",
        "prediction = estimator.predict(X_pca_train)"
      ],
      "execution_count": 88,
      "outputs": [
        {
          "output_type": "stream",
          "text": [
            "Epoch 1/30\n",
            "1420/1420 [==============================] - 2s 1ms/step - loss: 2176.5164\n",
            "Epoch 2/30\n",
            "1420/1420 [==============================] - 2s 1ms/step - loss: 13.8237\n",
            "Epoch 3/30\n",
            "1420/1420 [==============================] - 2s 1ms/step - loss: 4.7822\n",
            "Epoch 4/30\n",
            "1420/1420 [==============================] - 2s 1ms/step - loss: 3.3257\n",
            "Epoch 5/30\n",
            "1420/1420 [==============================] - 2s 1ms/step - loss: 2.9400\n",
            "Epoch 6/30\n",
            "1420/1420 [==============================] - 2s 1ms/step - loss: 2.7298\n",
            "Epoch 7/30\n",
            "1420/1420 [==============================] - 2s 1ms/step - loss: 2.6608\n",
            "Epoch 8/30\n",
            "1420/1420 [==============================] - 2s 1ms/step - loss: 2.5866\n",
            "Epoch 9/30\n",
            "1420/1420 [==============================] - 2s 1ms/step - loss: 2.5599\n",
            "Epoch 10/30\n",
            "1420/1420 [==============================] - 2s 1ms/step - loss: 2.5198\n",
            "Epoch 11/30\n",
            "1420/1420 [==============================] - 2s 1ms/step - loss: 2.5192\n",
            "Epoch 12/30\n",
            "1420/1420 [==============================] - 2s 1ms/step - loss: 2.5090\n",
            "Epoch 13/30\n",
            "1420/1420 [==============================] - 2s 1ms/step - loss: 2.5057\n",
            "Epoch 14/30\n",
            "1420/1420 [==============================] - 2s 1ms/step - loss: 2.5125\n",
            "Epoch 15/30\n",
            "1420/1420 [==============================] - 2s 1ms/step - loss: 2.4722\n",
            "Epoch 16/30\n",
            "1420/1420 [==============================] - 2s 1ms/step - loss: 2.4949\n",
            "Epoch 17/30\n",
            "1420/1420 [==============================] - 2s 1ms/step - loss: 2.4793\n",
            "Epoch 18/30\n",
            "1420/1420 [==============================] - 2s 1ms/step - loss: 2.4772\n",
            "Epoch 19/30\n",
            "1420/1420 [==============================] - 2s 1ms/step - loss: 2.4606\n",
            "Epoch 20/30\n",
            "1420/1420 [==============================] - 2s 1ms/step - loss: 2.4670\n",
            "Epoch 21/30\n",
            "1420/1420 [==============================] - 2s 1ms/step - loss: 2.4572\n",
            "Epoch 22/30\n",
            "1420/1420 [==============================] - 2s 1ms/step - loss: 2.4428\n",
            "Epoch 23/30\n",
            "1420/1420 [==============================] - 2s 1ms/step - loss: 2.4532\n",
            "Epoch 24/30\n",
            "1420/1420 [==============================] - 2s 1ms/step - loss: 2.4618\n",
            "Epoch 25/30\n",
            "1420/1420 [==============================] - 2s 1ms/step - loss: 2.4438\n",
            "Epoch 26/30\n",
            "1420/1420 [==============================] - 2s 1ms/step - loss: 2.4682\n",
            "Epoch 27/30\n",
            "1420/1420 [==============================] - 2s 1ms/step - loss: 2.4526\n",
            "Epoch 28/30\n",
            "1420/1420 [==============================] - 2s 1ms/step - loss: 2.4490\n",
            "Epoch 29/30\n",
            "1420/1420 [==============================] - 2s 1ms/step - loss: 2.4396\n",
            "Epoch 30/30\n",
            "1420/1420 [==============================] - 2s 1ms/step - loss: 2.4615\n",
            "1420/1420 [==============================] - 1s 778us/step\n"
          ],
          "name": "stdout"
        }
      ]
    },
    {
      "cell_type": "code",
      "metadata": {
        "id": "FKa3KvGUl01Q",
        "outputId": "7b26093c-e802-4364-9955-0991b746361c",
        "colab": {
          "base_uri": "https://localhost:8080/"
        }
      },
      "source": [
        "from sklearn.metrics import mean_absolute_error\r\n",
        "print(mean_absolute_error(y,prediction))"
      ],
      "execution_count": 89,
      "outputs": [
        {
          "output_type": "stream",
          "text": [
            "0.3988296265022698\n"
          ],
          "name": "stdout"
        }
      ]
    },
    {
      "cell_type": "code",
      "metadata": {
        "id": "9Ws35URBhAaI"
      },
      "source": [
        "df_test1 = pd.read_csv(\"/content/drive/MyDrive/Colab Notebooks/frequency_domain_features_test.csv\")\n",
        "df_test2 = pd.read_csv(\"/content/drive/MyDrive/Colab Notebooks/heart_rate_non_linear_features_test.csv\")\n",
        "df_test3 = pd.read_csv(\"/content/drive/MyDrive/Colab Notebooks/time_domain_features_test.csv\")"
      ],
      "execution_count": 90,
      "outputs": []
    },
    {
      "cell_type": "code",
      "metadata": {
        "id": "NU606JD9hAaI"
      },
      "source": [
        "df_test = pd.merge(df_test1, df_test2, on='uuid')\r\n",
        "df_test = pd.merge(df_test, df_test3, on='uuid')\r\n"
      ],
      "execution_count": 91,
      "outputs": []
    },
    {
      "cell_type": "code",
      "metadata": {
        "id": "ZXiQSrVthAaI"
      },
      "source": [
        "df_test = df_test.drop([\"datasetId\"], axis =1)\r\n",
        "_id = df_test[\"uuid\"]\r\n",
        "test = df_test.drop([\"uuid\"], axis = 1)"
      ],
      "execution_count": 92,
      "outputs": []
    },
    {
      "cell_type": "code",
      "metadata": {
        "id": "kUgSM3YHhAaJ",
        "outputId": "df7693aa-7fc7-4cf8-d846-62529049b961",
        "colab": {
          "base_uri": "https://localhost:8080/"
        }
      },
      "source": [
        "test = pd.get_dummies(test, prefix=['condition'], prefix_sep='_', dummy_na=False, columns=['condition'])\r\n",
        "test.shape"
      ],
      "execution_count": 93,
      "outputs": [
        {
          "output_type": "execute_result",
          "data": {
            "text/plain": [
              "(41033, 36)"
            ]
          },
          "metadata": {
            "tags": []
          },
          "execution_count": 93
        }
      ]
    },
    {
      "cell_type": "code",
      "metadata": {
        "id": "3s3ss_0PhAaK",
        "outputId": "872ff47f-016a-464e-be8a-485738b1099b",
        "colab": {
          "base_uri": "https://localhost:8080/"
        }
      },
      "source": [
        "X_scale = scaler.transform(test)   # scale the training data\r\n",
        "X_test = pca.transform(X_scale)\r\n",
        "HR = estimator.predict(X_test)"
      ],
      "execution_count": 94,
      "outputs": [
        {
          "output_type": "stream",
          "text": [
            "161/161 [==============================] - 0s 825us/step\n"
          ],
          "name": "stdout"
        }
      ]
    },
    {
      "cell_type": "code",
      "metadata": {
        "id": "FBwFqaXMhAaK",
        "outputId": "80a498e4-092c-4e04-f12f-d34f272f77b8",
        "colab": {
          "base_uri": "https://localhost:8080/",
          "height": 204
        }
      },
      "source": [
        "HR = pd.DataFrame(data=HR.flatten(),columns=[\"HR\"])\r\n",
        "HR.head()"
      ],
      "execution_count": 95,
      "outputs": [
        {
          "output_type": "execute_result",
          "data": {
            "text/html": [
              "<div>\n",
              "<style scoped>\n",
              "    .dataframe tbody tr th:only-of-type {\n",
              "        vertical-align: middle;\n",
              "    }\n",
              "\n",
              "    .dataframe tbody tr th {\n",
              "        vertical-align: top;\n",
              "    }\n",
              "\n",
              "    .dataframe thead th {\n",
              "        text-align: right;\n",
              "    }\n",
              "</style>\n",
              "<table border=\"1\" class=\"dataframe\">\n",
              "  <thead>\n",
              "    <tr style=\"text-align: right;\">\n",
              "      <th></th>\n",
              "      <th>HR</th>\n",
              "    </tr>\n",
              "  </thead>\n",
              "  <tbody>\n",
              "    <tr>\n",
              "      <th>0</th>\n",
              "      <td>64.107483</td>\n",
              "    </tr>\n",
              "    <tr>\n",
              "      <th>1</th>\n",
              "      <td>72.939133</td>\n",
              "    </tr>\n",
              "    <tr>\n",
              "      <th>2</th>\n",
              "      <td>68.646965</td>\n",
              "    </tr>\n",
              "    <tr>\n",
              "      <th>3</th>\n",
              "      <td>60.540607</td>\n",
              "    </tr>\n",
              "    <tr>\n",
              "      <th>4</th>\n",
              "      <td>77.262375</td>\n",
              "    </tr>\n",
              "  </tbody>\n",
              "</table>\n",
              "</div>"
            ],
            "text/plain": [
              "          HR\n",
              "0  64.107483\n",
              "1  72.939133\n",
              "2  68.646965\n",
              "3  60.540607\n",
              "4  77.262375"
            ]
          },
          "metadata": {
            "tags": []
          },
          "execution_count": 95
        }
      ]
    },
    {
      "cell_type": "code",
      "metadata": {
        "id": "8V-SGztFhAaL",
        "outputId": "7de137b4-999f-4f08-cb0c-9a22704cd57f",
        "colab": {
          "base_uri": "https://localhost:8080/",
          "height": 204
        }
      },
      "source": [
        "output = pd.concat([_id, HR], axis = 1)\r\n",
        "output.head()"
      ],
      "execution_count": 96,
      "outputs": [
        {
          "output_type": "execute_result",
          "data": {
            "text/html": [
              "<div>\n",
              "<style scoped>\n",
              "    .dataframe tbody tr th:only-of-type {\n",
              "        vertical-align: middle;\n",
              "    }\n",
              "\n",
              "    .dataframe tbody tr th {\n",
              "        vertical-align: top;\n",
              "    }\n",
              "\n",
              "    .dataframe thead th {\n",
              "        text-align: right;\n",
              "    }\n",
              "</style>\n",
              "<table border=\"1\" class=\"dataframe\">\n",
              "  <thead>\n",
              "    <tr style=\"text-align: right;\">\n",
              "      <th></th>\n",
              "      <th>uuid</th>\n",
              "      <th>HR</th>\n",
              "    </tr>\n",
              "  </thead>\n",
              "  <tbody>\n",
              "    <tr>\n",
              "      <th>0</th>\n",
              "      <td>62b75db5-bc40-4c8f-9166-daf0efcab4c2</td>\n",
              "      <td>64.107483</td>\n",
              "    </tr>\n",
              "    <tr>\n",
              "      <th>1</th>\n",
              "      <td>a99549ad-3eb6-4413-bc90-9053e7f7e684</td>\n",
              "      <td>72.939133</td>\n",
              "    </tr>\n",
              "    <tr>\n",
              "      <th>2</th>\n",
              "      <td>cb573d3a-c767-4556-b32e-ad8c08ded214</td>\n",
              "      <td>68.646965</td>\n",
              "    </tr>\n",
              "    <tr>\n",
              "      <th>3</th>\n",
              "      <td>47a0c6de-2aef-4ac3-997d-252fa6fd07f1</td>\n",
              "      <td>60.540607</td>\n",
              "    </tr>\n",
              "    <tr>\n",
              "      <th>4</th>\n",
              "      <td>de3fd54f-c74e-4fe8-bf2a-7a127f68b312</td>\n",
              "      <td>77.262375</td>\n",
              "    </tr>\n",
              "  </tbody>\n",
              "</table>\n",
              "</div>"
            ],
            "text/plain": [
              "                                   uuid         HR\n",
              "0  62b75db5-bc40-4c8f-9166-daf0efcab4c2  64.107483\n",
              "1  a99549ad-3eb6-4413-bc90-9053e7f7e684  72.939133\n",
              "2  cb573d3a-c767-4556-b32e-ad8c08ded214  68.646965\n",
              "3  47a0c6de-2aef-4ac3-997d-252fa6fd07f1  60.540607\n",
              "4  de3fd54f-c74e-4fe8-bf2a-7a127f68b312  77.262375"
            ]
          },
          "metadata": {
            "tags": []
          },
          "execution_count": 96
        }
      ]
    },
    {
      "cell_type": "code",
      "metadata": {
        "id": "wNOJxkwXhAaM"
      },
      "source": [
        "output.to_csv(\"/content/drive/MyDrive/Colab Notebooks/sample_submission.csv\", index = False)"
      ],
      "execution_count": 97,
      "outputs": []
    },
    {
      "cell_type": "code",
      "metadata": {
        "id": "qROC81M4hAaN"
      },
      "source": [
        "dataframe = pd.read_csv(\"/content/drive/MyDrive/Colab Notebooks/sample_submission.csv\")"
      ],
      "execution_count": 98,
      "outputs": []
    }
  ]
}